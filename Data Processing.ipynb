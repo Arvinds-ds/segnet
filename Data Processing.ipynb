{
 "cells": [
  {
   "cell_type": "code",
   "execution_count": 1,
   "metadata": {
    "collapsed": true
   },
   "outputs": [],
   "source": [
    "import numpy as np\n",
    "import matplotlib.pyplot as plt\n",
    "from scipy.misc import imread\n",
    "import tensorflow as tf\n",
    "import tensorflow.contrib.slim as slim\n",
    "from utils import unpool_with_argmax\n",
    "%matplotlib inline"
   ]
  },
  {
   "cell_type": "code",
   "execution_count": 2,
   "metadata": {
    "collapsed": true
   },
   "outputs": [],
   "source": [
    "train_file = 'CamVid/train.txt'\n",
    "val_file = 'CamVid/val.txt'\n",
    "test_file = 'CamVid/test.txt'"
   ]
  },
  {
   "cell_type": "code",
   "execution_count": 3,
   "metadata": {
    "collapsed": true
   },
   "outputs": [],
   "source": [
    "IMAGE_HEIGHT = 72\n",
    "IMAGE_WIDTH = 96\n",
    "IMAGE_DEPTH = 3\n",
    "NUM_CLASSES = 12\n",
    "TRAIN_BATCH_SIZE=32\n",
    "VAL_BATCH_SIZE=TRAIN_BATCH_SIZE\n",
    "TEST_BATCH_SIZE = 1\n",
    "NUM_ITERS = 2000\n",
    "NUM_TRAIN = 367"
   ]
  },
  {
   "cell_type": "code",
   "execution_count": 4,
   "metadata": {
    "collapsed": true
   },
   "outputs": [],
   "source": [
    "def get_label_colors():\n",
    "    Sky = [128,128,128]\n",
    "    Building = [128,0,0]\n",
    "    Pole = [192,192,128]\n",
    "    Road_marking = [255,69,0]\n",
    "    Road = [128,64,128]\n",
    "    Pavement = [60,40,222]\n",
    "    Tree = [128,128,0]\n",
    "    SignSymbol = [192,128,128]\n",
    "    Fence = [64,64,128]\n",
    "    Car = [64,0,128]\n",
    "    Pedestrian = [64,64,0]\n",
    "    Bicyclist = [0,128,192]\n",
    "    Unlabelled = [0,0,0]\n",
    "\n",
    "    label_colors = np.array([Sky, Building, Pole, Road, Pavement, Tree, SignSymbol, \n",
    "                             Fence, Car, Pedestrian, Bicyclist, Unlabelled])\n",
    "    return label_colors\n",
    "\n",
    "def img_annot_to_rgb(img_annot):\n",
    "    r = img_annot.copy()\n",
    "    g = img_annot.copy()\n",
    "    b = img_annot.copy()\n",
    "    label_colors = get_label_colors()\n",
    "    for i in range(len(label_colors)):\n",
    "        r[img_annot==i]=label_colors[i,0]\n",
    "        g[img_annot==i]=label_colors[i,1]\n",
    "        b[img_annot==i]=label_colors[i,2]\n",
    "    return np.stack([r,g,b],axis=2)/255.0\n",
    "\n",
    "def visualize_image_annot(img_data, annot_data, predicted_annot=None):\n",
    "    if predicted_annot is None:\n",
    "        fig, ax = plt.subplots(1,2,figsize=(10,12))\n",
    "        ax[0].imshow(img_data)\n",
    "        ax[0].set_title('Original Image')\n",
    "        ax[1].imshow(img_annot_to_rgb(annot_data))\n",
    "        ax[1].set_title('True Segmentation')\n",
    "        plt.show()\n",
    "    else:\n",
    "        fig, ax = plt.subplots(1,3,figsize=(10,12))\n",
    "        ax[0].imshow(img_data)\n",
    "        ax[0].set_title('Original Image')\n",
    "        ax[1].imshow(img_annot_to_rgb(predicted_annot))\n",
    "        ax[1].set_title('Predicted Segmentation')\n",
    "        ax[2].imshow(img_annot_to_rgb(annot_data))\n",
    "        ax[2].set_title('True Segmentation')\n",
    "        plt.show()"
   ]
  },
  {
   "cell_type": "code",
   "execution_count": 5,
   "metadata": {
    "collapsed": true
   },
   "outputs": [],
   "source": [
    "def load_data(file, train=True, batch_size=10, labels=True):\n",
    "    def _load_image(filename):\n",
    "        image_string = tf.read_file(filenames[0])\n",
    "        image_decoded = tf.image.decode_png(image_string, channels=3)\n",
    "        image_decoded = tf.image.convert_image_dtype(image_decoded,tf.float32)\n",
    "        return image_decoded\n",
    "\n",
    "    def _load_image_with_labels(filenames):\n",
    "        image_string = tf.read_file(filenames[0])\n",
    "        image_decoded = tf.image.decode_png(image_string, channels=3)\n",
    "        image_decoded = tf.image.convert_image_dtype(image_decoded,tf.float32)\n",
    "        image_decoded = tf.image.resize_images(image_decoded, [IMAGE_HEIGHT, IMAGE_WIDTH])\n",
    "        annot_string = tf.read_file(filenames[1])\n",
    "        annot_decoded = tf.image.decode_png(annot_string, channels=1)\n",
    "        annot_decoded = tf.image.resize_images(annot_decoded, [IMAGE_HEIGHT,IMAGE_WIDTH])\n",
    "        annot_decoded = tf.squeeze(annot_decoded,axis=2)\n",
    "        annot_decoded = tf.cast(annot_decoded, tf.int64)\n",
    "        return image_decoded, annot_decoded\n",
    "\n",
    "    dataset = tf.contrib.data.Dataset.from_tensor_slices(tf.constant([file]))\n",
    "    dataset =  dataset.flat_map(lambda filename: tf.contrib.data.TextLineDataset(filename))\n",
    "    dataset = dataset.map(lambda line: tf.string_split([line], delimiter=' ').values)\n",
    "    if labels:\n",
    "        dataset = dataset.map(_load_image_with_labels)\n",
    "    else:\n",
    "        dataset = dataset.map(_load_image)\n",
    "    if train is True:\n",
    "        dataset = dataset.shuffle(buffer_size=batch_size*3)\n",
    "    dataset = dataset.batch(batch_size=batch_size)\n",
    "    iterator = dataset.make_initializable_iterator()\n",
    "    return iterator"
   ]
  },
  {
   "cell_type": "code",
   "execution_count": 6,
   "metadata": {
    "collapsed": true
   },
   "outputs": [],
   "source": [
    "train_iterator = load_data(train_file,batch_size=367)"
   ]
  },
  {
   "cell_type": "code",
   "execution_count": 7,
   "metadata": {
    "collapsed": true
   },
   "outputs": [],
   "source": [
    "sess = tf.InteractiveSession()"
   ]
  },
  {
   "cell_type": "code",
   "execution_count": 8,
   "metadata": {
    "collapsed": true
   },
   "outputs": [],
   "source": [
    "sess.run(train_iterator.initializer)"
   ]
  },
  {
   "cell_type": "code",
   "execution_count": 9,
   "metadata": {
    "collapsed": true
   },
   "outputs": [],
   "source": [
    "images, labels = sess.run(train_iterator.get_next())"
   ]
  },
  {
   "cell_type": "code",
   "execution_count": 10,
   "metadata": {},
   "outputs": [
    {
     "data": {
      "text/plain": [
       "(367, 72, 96)"
      ]
     },
     "execution_count": 10,
     "metadata": {},
     "output_type": "execute_result"
    }
   ],
   "source": [
    "labels.shape"
   ]
  },
  {
   "cell_type": "code",
   "execution_count": 17,
   "metadata": {},
   "outputs": [
    {
     "data": {
      "image/png": "[encoded data removed]",
      "text/plain": [
       "<matplotlib.figure.Figure at 0x7fb3e447bcf8>"
      ]
     },
     "metadata": {},
     "output_type": "display_data"
    }
   ],
   "source": [
    "fig, ax = plt.subplots(1,1,figsize=(10,12))\n",
    "for i in range(367):\n",
    "    ax.imshow(img_annot_to_rgb(labels[i,:,:]), alpha=0.004)"
   ]
  },
  {
   "cell_type": "code",
   "execution_count": 23,
   "metadata": {
    "collapsed": true
   },
   "outputs": [],
   "source": [
    "pixel_hist = np.zeros(12)\n",
    "for i in range(367):\n",
    "    pixel_hist += np.bincount(labels[i].reshape(-1),minlength=12)"
   ]
  },
  {
   "cell_type": "code",
   "execution_count": 41,
   "metadata": {},
   "outputs": [
    {
     "data": {
      "text/plain": [
       "[<matplotlib.text.Text at 0x7fb3b8751b70>,\n",
       " <matplotlib.text.Text at 0x7fb3b87bb4a8>,\n",
       " <matplotlib.text.Text at 0x7fb3b86c7ac8>,\n",
       " <matplotlib.text.Text at 0x7fb3b86cf4e0>,\n",
       " <matplotlib.text.Text at 0x7fb3b86cfeb8>,\n",
       " <matplotlib.text.Text at 0x7fb3b86d68d0>,\n",
       " <matplotlib.text.Text at 0x7fb3b86dc2e8>,\n",
       " <matplotlib.text.Text at 0x7fb3b86dccc0>,\n",
       " <matplotlib.text.Text at 0x7fb3b86e16d8>,\n",
       " <matplotlib.text.Text at 0x7fb3b86e80f0>,\n",
       " <matplotlib.text.Text at 0x7fb3b86e8ac8>,\n",
       " <matplotlib.text.Text at 0x7fb3b874aef0>]"
      ]
     },
     "execution_count": 41,
     "metadata": {},
     "output_type": "execute_result"
    },
    {
     "data": {
      "image/png": "[encoded data removed]",
      "text/plain": [
       "<matplotlib.figure.Figure at 0x7fb3dc060ba8>"
      ]
     },
     "metadata": {},
     "output_type": "display_data"
    }
   ],
   "source": [
    "fig, ax = plt.subplots(1,1,figsize=(10,12))\n",
    "ax_x = np.arange(12)\n",
    "ax.bar(ax_x,pixel_hist)\n",
    "ax.set_xticks(ax_x)\n",
    "ax.set_xticklabels(ax_labels, rotation='vertical')\n"
   ]
  },
  {
   "cell_type": "code",
   "execution_count": 32,
   "metadata": {
    "collapsed": true
   },
   "outputs": [],
   "source": [
    "ax_labels=['Sky', 'Building', 'Pole', 'Road', 'Pavement', 'Tree', 'SignSymbol', \n",
    "                             'Fence', 'Car', 'Pedestrian', 'Bicyclist', 'Unlabelled']"
   ]
  },
  {
   "cell_type": "code",
   "execution_count": 39,
   "metadata": {},
   "outputs": [
    {
     "data": {
      "text/plain": [
       "array([ 436608.,  592632.,   25184.,  789860.,  113824.,  248679.,\n",
       "         29776.,   28674.,  149205.,   16189.,    7442.,   98631.])"
      ]
     },
     "execution_count": 39,
     "metadata": {},
     "output_type": "execute_result"
    }
   ],
   "source": [
    "pixel_hist"
   ]
  },
  {
   "cell_type": "code",
   "execution_count": 44,
   "metadata": {
    "collapsed": true
   },
   "outputs": [],
   "source": [
    "pixel_probs=pixel_hist/pixel_hist.sum()"
   ]
  },
  {
   "cell_type": "code",
   "execution_count": 46,
   "metadata": {},
   "outputs": [
    {
     "data": {
      "text/plain": [
       "array([   5.81002639,    4.28040335,  100.72681067,    3.21158686,\n",
       "         22.28619623,   10.20071659,   85.19290704,   88.46704331,\n",
       "         17.00146778,  156.69306319,  340.86320881,   25.71913496])"
      ]
     },
     "execution_count": 46,
     "metadata": {},
     "output_type": "execute_result"
    }
   ],
   "source": [
    "1/pixel_probs"
   ]
  },
  {
   "cell_type": "code",
   "execution_count": 50,
   "metadata": {},
   "outputs": [
    {
     "ename": "ValueError",
     "evalue": "operands could not be broadcast together with shapes (12,2,3) (12,) ",
     "output_type": "error",
     "traceback": [
      "\u001b[0;31m---------------------------------------------------------------------------\u001b[0m",
      "\u001b[0;31mValueError\u001b[0m                                Traceback (most recent call last)",
      "\u001b[0;32m<ipython-input-50-8cd4bf30ebc1>\u001b[0m in \u001b[0;36m<module>\u001b[0;34m()\u001b[0m\n\u001b[0;32m----> 1\u001b[0;31m \u001b[0mnp\u001b[0m\u001b[0;34m.\u001b[0m\u001b[0mrandom\u001b[0m\u001b[0;34m.\u001b[0m\u001b[0mrandn\u001b[0m\u001b[0;34m(\u001b[0m\u001b[0;36m12\u001b[0m\u001b[0;34m,\u001b[0m\u001b[0;36m2\u001b[0m\u001b[0;34m,\u001b[0m\u001b[0;36m3\u001b[0m\u001b[0;34m)\u001b[0m\u001b[0;34m*\u001b[0m\u001b[0;34m(\u001b[0m\u001b[0;36m1\u001b[0m\u001b[0;34m/\u001b[0m\u001b[0mpixel_probs\u001b[0m\u001b[0;34m)\u001b[0m\u001b[0;34m\u001b[0m\u001b[0m\n\u001b[0m",
      "\u001b[0;31mValueError\u001b[0m: operands could not be broadcast together with shapes (12,2,3) (12,) "
     ]
    }
   ],
   "source": [
    "np.random.randn(12,2,3)*(1/pixel_probs)"
   ]
  },
  {
   "cell_type": "code",
   "execution_count": 76,
   "metadata": {
    "collapsed": true
   },
   "outputs": [],
   "source": [
    "pixel_weights=(1/pixel_probs)"
   ]
  },
  {
   "cell_type": "code",
   "execution_count": 77,
   "metadata": {
    "collapsed": true
   },
   "outputs": [],
   "source": [
    "final = np.zeros((12,72,96))\n",
    "for i in range(12):\n",
    "    final[i,:,:] = pixel_weights[i]"
   ]
  },
  {
   "cell_type": "code",
   "execution_count": 81,
   "metadata": {},
   "outputs": [
    {
     "data": {
      "text/plain": [
       "array([[ 4.28040335,  4.28040335,  4.28040335, ...,  4.28040335,\n",
       "         4.28040335,  4.28040335],\n",
       "       [ 4.28040335,  4.28040335,  4.28040335, ...,  4.28040335,\n",
       "         4.28040335,  4.28040335],\n",
       "       [ 4.28040335,  4.28040335,  4.28040335, ...,  4.28040335,\n",
       "         4.28040335,  4.28040335],\n",
       "       ..., \n",
       "       [ 4.28040335,  4.28040335,  4.28040335, ...,  4.28040335,\n",
       "         4.28040335,  4.28040335],\n",
       "       [ 4.28040335,  4.28040335,  4.28040335, ...,  4.28040335,\n",
       "         4.28040335,  4.28040335],\n",
       "       [ 4.28040335,  4.28040335,  4.28040335, ...,  4.28040335,\n",
       "         4.28040335,  4.28040335]])"
      ]
     },
     "execution_count": 81,
     "metadata": {},
     "output_type": "execute_result"
    }
   ],
   "source": [
    "final[1]"
   ]
  },
  {
   "cell_type": "code",
   "execution_count": 53,
   "metadata": {},
   "outputs": [
    {
     "data": {
      "text/plain": [
       "array([[[ 0.,  0.,  0., ...,  0.,  0.,  0.],\n",
       "        [ 0.,  0.,  0., ...,  0.,  0.,  0.],\n",
       "        [ 0.,  0.,  0., ...,  0.,  0.,  0.],\n",
       "        ..., \n",
       "        [ 0.,  0.,  0., ...,  0.,  0.,  0.],\n",
       "        [ 0.,  0.,  0., ...,  0.,  0.,  0.],\n",
       "        [ 0.,  0.,  0., ...,  0.,  0.,  0.]],\n",
       "\n",
       "       [[ 0.,  0.,  0., ...,  0.,  0.,  0.],\n",
       "        [ 0.,  0.,  0., ...,  0.,  0.,  0.],\n",
       "        [ 0.,  0.,  0., ...,  0.,  0.,  0.],\n",
       "        ..., \n",
       "        [ 0.,  0.,  0., ...,  0.,  0.,  0.],\n",
       "        [ 0.,  0.,  0., ...,  0.,  0.,  0.],\n",
       "        [ 0.,  0.,  0., ...,  0.,  0.,  0.]],\n",
       "\n",
       "       [[ 0.,  0.,  0., ...,  0.,  0.,  0.],\n",
       "        [ 0.,  0.,  0., ...,  0.,  0.,  0.],\n",
       "        [ 0.,  0.,  0., ...,  0.,  0.,  0.],\n",
       "        ..., \n",
       "        [ 0.,  0.,  0., ...,  0.,  0.,  0.],\n",
       "        [ 0.,  0.,  0., ...,  0.,  0.,  0.],\n",
       "        [ 0.,  0.,  0., ...,  0.,  0.,  0.]],\n",
       "\n",
       "       ..., \n",
       "       [[ 0.,  0.,  0., ...,  0.,  0.,  0.],\n",
       "        [ 0.,  0.,  0., ...,  0.,  0.,  0.],\n",
       "        [ 0.,  0.,  0., ...,  0.,  0.,  0.],\n",
       "        ..., \n",
       "        [ 0.,  0.,  0., ...,  0.,  0.,  0.],\n",
       "        [ 0.,  0.,  0., ...,  0.,  0.,  0.],\n",
       "        [ 0.,  0.,  0., ...,  0.,  0.,  0.]],\n",
       "\n",
       "       [[ 0.,  0.,  0., ...,  0.,  0.,  0.],\n",
       "        [ 0.,  0.,  0., ...,  0.,  0.,  0.],\n",
       "        [ 0.,  0.,  0., ...,  0.,  0.,  0.],\n",
       "        ..., \n",
       "        [ 0.,  0.,  0., ...,  0.,  0.,  0.],\n",
       "        [ 0.,  0.,  0., ...,  0.,  0.,  0.],\n",
       "        [ 0.,  0.,  0., ...,  0.,  0.,  0.]],\n",
       "\n",
       "       [[ 0.,  0.,  0., ...,  0.,  0.,  0.],\n",
       "        [ 0.,  0.,  0., ...,  0.,  0.,  0.],\n",
       "        [ 0.,  0.,  0., ...,  0.,  0.,  0.],\n",
       "        ..., \n",
       "        [ 0.,  0.,  0., ...,  0.,  0.,  0.],\n",
       "        [ 0.,  0.,  0., ...,  0.,  0.,  0.],\n",
       "        [ 0.,  0.,  0., ...,  0.,  0.,  0.]]])"
      ]
     },
     "execution_count": 53,
     "metadata": {},
     "output_type": "execute_result"
    }
   ],
   "source": [
    "np.zeros((12,72,96))"
   ]
  },
  {
   "cell_type": "code",
   "execution_count": 71,
   "metadata": {
    "collapsed": true
   },
   "outputs": [],
   "source": [
    "x = np.array([[[[1,1],[1,1]],[[2,2],[2,2]]],[[[3,3],[3,3]],[[4,4],[4,4]]]])"
   ]
  },
  {
   "cell_type": "code",
   "execution_count": 56,
   "metadata": {},
   "outputs": [
    {
     "data": {
      "text/plain": [
       "array([[ 2,  6],\n",
       "       [ 6, 12]])"
      ]
     },
     "execution_count": 56,
     "metadata": {},
     "output_type": "execute_result"
    }
   ],
   "source": [
    "x*np.array([2,3])"
   ]
  },
  {
   "cell_type": "code",
   "execution_count": 60,
   "metadata": {},
   "outputs": [
    {
     "data": {
      "text/plain": [
       "array([[[ 2.,  3.],\n",
       "        [ 2.,  3.],\n",
       "        [ 2.,  3.]],\n",
       "\n",
       "       [[ 2.,  3.],\n",
       "        [ 2.,  3.],\n",
       "        [ 2.,  3.]]])"
      ]
     },
     "execution_count": 60,
     "metadata": {},
     "output_type": "execute_result"
    }
   ],
   "source": [
    "x*np.array([2,3])"
   ]
  },
  {
   "cell_type": "code",
   "execution_count": 64,
   "metadata": {},
   "outputs": [
    {
     "data": {
      "text/plain": [
       "(2, 2, 2)"
      ]
     },
     "execution_count": 64,
     "metadata": {},
     "output_type": "execute_result"
    }
   ],
   "source": [
    "x.shape"
   ]
  },
  {
   "cell_type": "code",
   "execution_count": 67,
   "metadata": {},
   "outputs": [
    {
     "data": {
      "text/plain": [
       "array([[[1, 1],\n",
       "        [2, 2]],\n",
       "\n",
       "       [[2, 2],\n",
       "        [4, 4]]])"
      ]
     },
     "execution_count": 67,
     "metadata": {},
     "output_type": "execute_result"
    }
   ],
   "source": [
    "x*np.array([[1],[2]])"
   ]
  },
  {
   "cell_type": "code",
   "execution_count": 69,
   "metadata": {
    "collapsed": true
   },
   "outputs": [],
   "source": [
    "y = np.array([[[2,2],[2,2]],[[3,3],[3,3]]])"
   ]
  },
  {
   "cell_type": "code",
   "execution_count": 73,
   "metadata": {},
   "outputs": [
    {
     "data": {
      "text/plain": [
       "array([[[[ 2,  2],\n",
       "         [ 2,  2]],\n",
       "\n",
       "        [[ 6,  6],\n",
       "         [ 6,  6]]],\n",
       "\n",
       "\n",
       "       [[[ 6,  6],\n",
       "         [ 6,  6]],\n",
       "\n",
       "        [[12, 12],\n",
       "         [12, 12]]]])"
      ]
     },
     "execution_count": 73,
     "metadata": {},
     "output_type": "execute_result"
    }
   ],
   "source": [
    "x*y"
   ]
  },
  {
   "cell_type": "code",
   "execution_count": 72,
   "metadata": {},
   "outputs": [
    {
     "data": {
      "text/plain": [
       "array([[[[1, 1],\n",
       "         [1, 1]],\n",
       "\n",
       "        [[2, 2],\n",
       "         [2, 2]]],\n",
       "\n",
       "\n",
       "       [[[3, 3],\n",
       "         [3, 3]],\n",
       "\n",
       "        [[4, 4],\n",
       "         [4, 4]]]])"
      ]
     },
     "execution_count": 72,
     "metadata": {},
     "output_type": "execute_result"
    }
   ],
   "source": [
    "x"
   ]
  },
  {
   "cell_type": "code",
   "execution_count": 15,
   "metadata": {},
   "outputs": [
    {
     "data": {
      "image/png": "[encoded data removed]",
      "text/plain": [
       "<matplotlib.figure.Figure at 0x7fb2e878ea90>"
      ]
     },
     "metadata": {},
     "output_type": "display_data"
    }
   ],
   "source": [
    "plt.imshow(images[0])\n",
    "plt.grid(False)"
   ]
  },
  {
   "cell_type": "code",
   "execution_count": 12,
   "metadata": {},
   "outputs": [
    {
     "data": {
      "text/plain": [
       "array([[[ 0.0627451 ,  0.06666667,  0.06666667],\n",
       "        [ 0.04705883,  0.0509804 ,  0.0509804 ],\n",
       "        [ 0.05882353,  0.0627451 ,  0.0627451 ],\n",
       "        ..., \n",
       "        [ 0.14117648,  0.18039216,  0.20392159],\n",
       "        [ 0.22352943,  0.30588236,  0.32549021],\n",
       "        [ 0.12941177,  0.18823531,  0.2392157 ]],\n",
       "\n",
       "       [[ 0.05882353,  0.0627451 ,  0.0627451 ],\n",
       "        [ 0.04705883,  0.0509804 ,  0.0509804 ],\n",
       "        [ 0.07058824,  0.07450981,  0.07450981],\n",
       "        ..., \n",
       "        [ 0.16078432,  0.25490198,  0.26666668],\n",
       "        [ 0.10588236,  0.12156864,  0.19215688],\n",
       "        [ 0.15294118,  0.21960786,  0.2392157 ]],\n",
       "\n",
       "       [[ 0.07450981,  0.07450981,  0.06666667],\n",
       "        [ 0.03921569,  0.03921569,  0.03921569],\n",
       "        [ 0.05490196,  0.05490196,  0.05490196],\n",
       "        ..., \n",
       "        [ 0.1254902 ,  0.14901961,  0.20000002],\n",
       "        [ 0.11764707,  0.15294118,  0.20392159],\n",
       "        [ 0.19607845,  0.28235295,  0.34117648]],\n",
       "\n",
       "       ..., \n",
       "       [[ 0.05490196,  0.07058824,  0.07450981],\n",
       "        [ 0.0509804 ,  0.06666667,  0.07058824],\n",
       "        [ 0.05882353,  0.0627451 ,  0.07058824],\n",
       "        ..., \n",
       "        [ 0.01960784,  0.01960784,  0.01960784],\n",
       "        [ 0.01960784,  0.01960784,  0.01960784],\n",
       "        [ 0.01960784,  0.01960784,  0.01960784]],\n",
       "\n",
       "       [[ 0.05882353,  0.0627451 ,  0.07450981],\n",
       "        [ 0.0509804 ,  0.06666667,  0.07450981],\n",
       "        [ 0.05882353,  0.0627451 ,  0.07450981],\n",
       "        ..., \n",
       "        [ 0.08235294,  0.09411766,  0.07843138],\n",
       "        [ 0.13333334,  0.16078432,  0.12941177],\n",
       "        [ 0.13333334,  0.16470589,  0.14901961]],\n",
       "\n",
       "       [[ 0.05882353,  0.0627451 ,  0.07058824],\n",
       "        [ 0.0627451 ,  0.06666667,  0.07450981],\n",
       "        [ 0.05882353,  0.0627451 ,  0.07058824],\n",
       "        ..., \n",
       "        [ 0.1137255 ,  0.15294118,  0.17647059],\n",
       "        [ 0.12156864,  0.15294118,  0.17647059],\n",
       "        [ 0.12941177,  0.16078432,  0.17647059]]], dtype=float32)"
      ]
     },
     "execution_count": 12,
     "metadata": {},
     "output_type": "execute_result"
    }
   ],
   "source": [
    "images[0]"
   ]
  },
  {
   "cell_type": "code",
   "execution_count": null,
   "metadata": {
    "collapsed": true
   },
   "outputs": [],
   "source": []
  }
 ],
 "metadata": {
  "kernelspec": {
   "display_name": "Python 3",
   "language": "python",
   "name": "python3"
  },
  "language_info": {
   "codemirror_mode": {
    "name": "ipython",
    "version": 3
   },
   "file_extension": ".py",
   "mimetype": "text/x-python",
   "name": "python",
   "nbconvert_exporter": "python",
   "pygments_lexer": "ipython3",
   "version": "3.6.1"
  }
 },
 "nbformat": 4,
 "nbformat_minor": 2
}
