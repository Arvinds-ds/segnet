{
 "cells": [
  {
   "cell_type": "markdown",
   "metadata": {},
   "source": [
    "### Bayesian Semantic Segmentation\n"
   ]
  },
  {
   "cell_type": "code",
   "execution_count": 1,
   "metadata": {
    "collapsed": true
   },
   "outputs": [],
   "source": [
    "import numpy as np\n",
    "import matplotlib.pyplot as plt\n",
    "from scipy.misc import imread\n",
    "import tensorflow as tf\n",
    "import tensorflow.contrib.slim as slim\n",
    "from utils import unpool_with_argmax\n",
    "%matplotlib inline"
   ]
  },
  {
   "cell_type": "code",
   "execution_count": 2,
   "metadata": {
    "collapsed": true
   },
   "outputs": [],
   "source": [
    "train_file = 'CamVid/train.txt'\n",
    "val_file = 'CamVid/val.txt'\n",
    "test_file = 'CamVid/test.txt'"
   ]
  },
  {
   "cell_type": "code",
   "execution_count": 3,
   "metadata": {
    "collapsed": true
   },
   "outputs": [],
   "source": [
    "IMAGE_HEIGHT = 72\n",
    "IMAGE_WIDTH = 96\n",
    "IMAGE_DEPTH = 3\n",
    "NUM_CLASSES = 12\n",
    "TRAIN_BATCH_SIZE=32\n",
    "VAL_BATCH_SIZE=TRAIN_BATCH_SIZE\n",
    "TEST_BATCH_SIZE = 1\n",
    "NUM_ITERS = 2000\n",
    "NUM_TRAIN = 367"
   ]
  },
  {
   "cell_type": "code",
   "execution_count": 4,
   "metadata": {
    "collapsed": true
   },
   "outputs": [],
   "source": [
    "def get_label_colors():\n",
    "    Sky = [128,128,128]\n",
    "    Building = [128,0,0]\n",
    "    Pole = [192,192,128]\n",
    "    Road_marking = [255,69,0]\n",
    "    Road = [128,64,128]\n",
    "    Pavement = [60,40,222]\n",
    "    Tree = [128,128,0]\n",
    "    SignSymbol = [192,128,128]\n",
    "    Fence = [64,64,128]\n",
    "    Car = [64,0,128]\n",
    "    Pedestrian = [64,64,0]\n",
    "    Bicyclist = [0,128,192]\n",
    "    Unlabelled = [0,0,0]\n",
    "\n",
    "    label_colors = np.array([Sky, Building, Pole, Road, Pavement, Tree, SignSymbol, \n",
    "                             Fence, Car, Pedestrian, Bicyclist, Unlabelled])\n",
    "    return label_colors\n",
    "\n",
    "def img_annot_to_rgb(img_annot):\n",
    "    r = img_annot.copy()\n",
    "    g = img_annot.copy()\n",
    "    b = img_annot.copy()\n",
    "    label_colors = get_label_colors()\n",
    "    for i in range(len(label_colors)):\n",
    "        r[img_annot==i]=label_colors[i,0]\n",
    "        g[img_annot==i]=label_colors[i,1]\n",
    "        b[img_annot==i]=label_colors[i,2]\n",
    "    return np.stack([r,g,b],axis=2)/255.0\n",
    "\n",
    "def visualize_image_annot(img_data, annot_data, predicted_annot=None):\n",
    "    if predicted_annot is None:\n",
    "        fig, ax = plt.subplots(1,2,figsize=(10,12))\n",
    "        ax[0].imshow(img_data)\n",
    "        ax[0].set_title('Original Image')\n",
    "        ax[1].imshow(img_annot_to_rgb(annot_data))\n",
    "        ax[1].set_title('True Segmentation')\n",
    "        plt.show()\n",
    "    else:\n",
    "        fig, ax = plt.subplots(1,3,figsize=(10,12))\n",
    "        ax[0].imshow(img_data)\n",
    "        ax[0].set_title('Original Image')\n",
    "        ax[1].imshow(img_annot_to_rgb(predicted_annot))\n",
    "        ax[1].set_title('Predicted Segmentation')\n",
    "        ax[2].imshow(img_annot_to_rgb(annot_data))\n",
    "        ax[2].set_title('True Segmentation')\n",
    "        plt.show()"
   ]
  },
  {
   "cell_type": "code",
   "execution_count": 5,
   "metadata": {
    "collapsed": true
   },
   "outputs": [],
   "source": [
    "def load_data(file, train=True, batch_size=10, labels=True):\n",
    "    def _load_image(filename):\n",
    "        image_string = tf.read_file(filenames[0])\n",
    "        image_decoded = tf.image.decode_png(image_string, channels=3)\n",
    "        image_decoded = tf.image.convert_image_dtype(image_decoded,tf.float32)\n",
    "        return image_decoded\n",
    "\n",
    "    def _load_image_with_labels(filenames):\n",
    "        image_string = tf.read_file(filenames[0])\n",
    "        image_decoded = tf.image.decode_png(image_string, channels=3)\n",
    "        image_decoded = tf.image.convert_image_dtype(image_decoded,tf.float32)\n",
    "        image_decoded = tf.image.resize_images(image_decoded, [IMAGE_HEIGHT, IMAGE_WIDTH])\n",
    "        annot_string = tf.read_file(filenames[1])\n",
    "        annot_decoded = tf.image.decode_png(annot_string, channels=1)\n",
    "        annot_decoded = tf.image.resize_images(annot_decoded, [IMAGE_HEIGHT,IMAGE_WIDTH])\n",
    "        annot_decoded = tf.squeeze(annot_decoded,axis=2)\n",
    "        annot_decoded = tf.cast(annot_decoded, tf.int64)\n",
    "        return image_decoded, annot_decoded\n",
    "\n",
    "    dataset = tf.contrib.data.Dataset.from_tensor_slices(tf.constant([file]))\n",
    "    dataset =  dataset.flat_map(lambda filename: tf.contrib.data.TextLineDataset(filename))\n",
    "    dataset = dataset.map(lambda line: tf.string_split([line], delimiter=' ').values)\n",
    "    if labels:\n",
    "        dataset = dataset.map(_load_image_with_labels)\n",
    "    else:\n",
    "        dataset = dataset.map(_load_image)\n",
    "    if train is True:\n",
    "        dataset = dataset.shuffle(buffer_size=batch_size*3)\n",
    "    dataset = dataset.batch(batch_size=batch_size)\n",
    "    iterator = dataset.make_initializable_iterator()\n",
    "    return iterator"
   ]
  },
  {
   "cell_type": "code",
   "execution_count": 6,
   "metadata": {
    "collapsed": true
   },
   "outputs": [],
   "source": [
    "def inference_scope(is_training, batch_norm_decay=0.9):\n",
    "    with slim.arg_scope([slim.conv2d],\n",
    "                        activation_fn=tf.nn.relu,\n",
    "                        weights_initializer=tf.truncated_normal_initializer(stddev=0.01),\n",
    "                        normalizer_fn=slim.batch_norm,\n",
    "                        stride=1,\n",
    "                        padding='SAME'):\n",
    "\n",
    "        with slim.arg_scope([slim.batch_norm],\n",
    "                            is_training=is_training,\n",
    "                            decay=batch_norm_decay) as scope:\n",
    "            return scope\n",
    "\n",
    "def inference(images, class_inc_bg = None):\n",
    "\n",
    "    tf.summary.image('input', images, max_outputs=3)\n",
    "\n",
    "    with tf.variable_scope('pool1'):\n",
    "        net = slim.conv2d(images, 64, [3, 3], scope='conv1_1')\n",
    "        net = slim.conv2d(net, 64, [3, 3], scope='conv1_2')\n",
    "        net, arg1 = tf.nn.max_pool_with_argmax(net, ksize=[1, 2, 2, 1], strides=[1, 2, 2, 1], padding='SAME', name='maxpool1')\n",
    "\n",
    "    with tf.variable_scope('pool2'):\n",
    "        net = slim.conv2d(net, 128, [3, 3], scope='conv2_1')\n",
    "        net = slim.conv2d(net, 128, [3, 3], scope='conv2_2')\n",
    "        net, arg2 = tf.nn.max_pool_with_argmax(net, ksize=[1, 2, 2, 1], strides=[1, 2, 2, 1], padding='SAME', name='maxpool2')\n",
    "\n",
    "    with tf.variable_scope('pool3'):\n",
    "        net = slim.conv2d(net, 256, [3, 3], scope='conv3_1')\n",
    "        net = slim.conv2d(net, 256, [3, 3], scope='conv3_2')\n",
    "        net = slim.conv2d(net, 256, [3, 3], scope='conv3_3')\n",
    "        net, arg3 = tf.nn.max_pool_with_argmax(net, ksize=[1, 2, 2, 1], strides=[1, 2, 2, 1], padding='SAME', name='maxpool3')\n",
    "\n",
    "    with tf.variable_scope('unpool3'):\n",
    "        net = unpool_with_argmax(net, arg3, name='maxunpool3')\n",
    "        net = slim.conv2d(net, 256, [3, 3], scope='uconv3_3')\n",
    "        net = slim.conv2d(net, 256, [3, 3], scope='uconv3_2')\n",
    "        net = slim.conv2d(net, 128, [3, 3], scope='uconv3_1')\n",
    "\n",
    "    with tf.variable_scope('unpool2'):\n",
    "        net = unpool_with_argmax(net, arg2, name='maxunpool2')\n",
    "        net = slim.conv2d(net, 128, [3, 3], scope='uconv2_2')\n",
    "        net = slim.conv2d(net, 64, [3, 3], scope='uconv2_1')\n",
    "\n",
    "    with tf.variable_scope('unpool1'):\n",
    "        net = unpool_with_argmax(net, arg1, name='maxunpool1')\n",
    "        net = slim.conv2d(net, 64, [3, 3], scope='uconv1_2')\n",
    "        logits = slim.conv2d(net, class_inc_bg, [3, 3], scope='uconv1_1')\n",
    "    predicted_annotations = tf.argmax(logits,axis=3)\n",
    "    return logits, predicted_annotations"
   ]
  },
  {
   "cell_type": "code",
   "execution_count": 7,
   "metadata": {
    "collapsed": true
   },
   "outputs": [],
   "source": [
    "tf.reset_default_graph()\n",
    "train_iterator = load_data(train_file, batch_size=TRAIN_BATCH_SIZE)\n"
   ]
  },
  {
   "cell_type": "code",
   "execution_count": 8,
   "metadata": {
    "collapsed": true
   },
   "outputs": [],
   "source": [
    "val_iterator = load_data(val_file, train=False, batch_size=TRAIN_BATCH_SIZE)\n",
    "test_iterator = load_data(test_file, train=False)"
   ]
  },
  {
   "cell_type": "code",
   "execution_count": 9,
   "metadata": {
    "collapsed": true
   },
   "outputs": [],
   "source": [
    "sess = tf.InteractiveSession()\n",
    "sess.run(tf.global_variables_initializer())\n",
    "sess.run(train_iterator.initializer)\n",
    "X,y = sess.run(train_iterator.get_next())"
   ]
  },
  {
   "cell_type": "code",
   "execution_count": 10,
   "metadata": {},
   "outputs": [
    {
     "data": {
      "image/png": "[encoded data removed]",
      "text/plain": [
       "<matplotlib.figure.Figure at 0x7fc13e14fac8>"
      ]
     },
     "metadata": {},
     "output_type": "display_data"
    }
   ],
   "source": [
    "visualize_image_annot(X[0], y[0])"
   ]
  },
  {
   "cell_type": "code",
   "execution_count": 11,
   "metadata": {
    "collapsed": true
   },
   "outputs": [],
   "source": [
    "def get_inputs(batch_size):\n",
    "    inputs = tf.placeholder(tf.float32, [batch_size, IMAGE_HEIGHT, IMAGE_WIDTH, IMAGE_DEPTH ])\n",
    "    labels = tf.placeholder(tf.int64,[batch_size, IMAGE_HEIGHT, IMAGE_WIDTH])\n",
    "    is_training = tf.placeholder(tf.bool)\n",
    "    return inputs, labels, is_training"
   ]
  },
  {
   "cell_type": "code",
   "execution_count": 12,
   "metadata": {
    "collapsed": true
   },
   "outputs": [],
   "source": [
    "def compute_loss(logits, labels):\n",
    "    ce = tf.nn.sparse_softmax_cross_entropy_with_logits(logits=logits, labels=labels)\n",
    "    loss = tf.reduce_mean(ce)\n",
    "    tf.summary.scalar('loss', loss)\n",
    "    return loss\n",
    "\n",
    "def compute_accuracy(logits, labels):\n",
    "    correct_prediction = tf.equal(tf.argmax(logits, 3), labels)\n",
    "    accuracy = tf.reduce_mean(tf.cast(correct_prediction, tf.float32))\n",
    "    tf.summary.scalar('accuracy', accuracy)\n",
    "    return accuracy\n",
    "\n",
    "def training_op(loss, learning_rate):\n",
    "    global_step = tf.Variable(0, name='global_step', trainable=False)\n",
    "    update_ops = tf.get_collection(tf.GraphKeys.UPDATE_OPS)\n",
    "    with tf.control_dependencies(update_ops):\n",
    "        optimizer = tf.train.AdamOptimizer(learning_rate=0.1).minimize(loss, global_step=global_step)\n",
    "    return optimizer, global_step"
   ]
  },
  {
   "cell_type": "code",
   "execution_count": 13,
   "metadata": {
    "collapsed": true
   },
   "outputs": [],
   "source": [
    "arg_scope = inference_scope(is_training=True, batch_norm_decay=0.95)\n",
    "inputs, labels, is_training = get_inputs(batch_size=TRAIN_BATCH_SIZE)\n",
    "with slim.arg_scope(arg_scope):\n",
    "    logits, predicted_annotations = inference(inputs, class_inc_bg=NUM_CLASSES)"
   ]
  },
  {
   "cell_type": "code",
   "execution_count": 14,
   "metadata": {
    "collapsed": true
   },
   "outputs": [],
   "source": [
    "loss = compute_loss(logits, labels)\n",
    "optimizer, global_step = training_op(loss, 0.0001)\n",
    "accuracy = compute_accuracy(logits, labels)"
   ]
  },
  {
   "cell_type": "code",
   "execution_count": null,
   "metadata": {
    "collapsed": true
   },
   "outputs": [],
   "source": [
    "def build_segnet(inputs, labels, is_training, batch_size,learning_rate, batch_norm_decay=0.95):\n",
    "    class SegnetModel():\n",
    "        pass\n",
    "    segnet_model = SegnetModel()\n",
    "    arg_scope = inference_scope(is_training=is_training, batch_norm_decay=batch_norm_decay)\n",
    "    inputs, labels, is_training = get_inputs(batch_size=TRAIN_BATCH_SIZE)\n",
    "    with slim.arg_scope(arg_scope):\n",
    "        segnet_model.logits, predicted_annotations = inference(inputs, class_inc_bg=NUM_CLASSES)\n",
    "    segnet_model.loss = compute_loss(logits, labels)\n",
    "    segnet_model.optimizer, segnet_model.global_step = training_op(loss, learning_rate)\n",
    "    segnet_model.accuracy = compute_accuracy(logits, labels)\n",
    "    return segnet_model\n",
    "\n",
    "def segnet_model_fn(inputs, labels,mode, params):\n",
    "    \n",
    "    segnet_model = build_segnet(inputs, labels,\n",
    "                                batch_size=params['batch_size'],\n",
    "                                learning_rate = params['learning_rate'],\n",
    "                                batch_norm_decay = params['bn_decay'])\n",
    "    "
   ]
  },
  {
   "cell_type": "markdown",
   "metadata": {},
   "source": [
    "## Pure DL Approach"
   ]
  },
  {
   "cell_type": "code",
   "execution_count": null,
   "metadata": {
    "scrolled": false
   },
   "outputs": [],
   "source": [
    "sess = tf.InteractiveSession()\n",
    "sess.run(tf.global_variables_initializer())\n",
    "sess.run(train_iterator.initializer)\n",
    "\n",
    "for i in range(NUM_ITERS):\n",
    "    train_image, train_labels =sess.run(train_iterator.get_next())\n",
    "    if len(train_image) < TRAIN_BATCH_SIZE:\n",
    "        sess.run(train_iterator.initializer)\n",
    "        train_image, train_labels =sess.run(train_iterator.get_next())\n",
    "    _, loss_,accuracy_ = sess.run([optimizer,loss, accuracy], feed_dict={inputs: train_image, labels:train_labels,\n",
    "                                                  is_training: True})\n",
    "    \n",
    "    if i % 100 == 0:\n",
    "        print(f\"Iter: {i},Loss: {loss_}, Acc:{accuracy_}\")\n",
    "        if i > 0:\n",
    "            sess.run(val_iterator.initializer)\n",
    "            val_image, val_labels = sess.run(val_iterator.get_next())\n",
    "            val_acc,preds = sess.run([accuracy,predicted_annotations],\n",
    "                                     feed_dict={inputs: val_image, labels:val_labels,\n",
    "                                                         is_training: False})\n",
    "            print(f\"Val Acc:{val_acc}\")\n",
    "            visualize_image_annot(val_image[0],val_labels[0],preds[0])"
   ]
  },
  {
   "cell_type": "markdown",
   "metadata": {},
   "source": [
    "## Probabilistic Approach"
   ]
  },
  {
   "cell_type": "code",
   "execution_count": 15,
   "metadata": {
    "collapsed": true
   },
   "outputs": [],
   "source": [
    "import edward as ed\n",
    "from edward.models import Categorical, Normal"
   ]
  },
  {
   "cell_type": "code",
   "execution_count": 16,
   "metadata": {
    "collapsed": true
   },
   "outputs": [],
   "source": [
    "inputs = tf.placeholder(tf.float32, [TRAIN_BATCH_SIZE, IMAGE_HEIGHT, IMAGE_WIDTH, IMAGE_DEPTH ])\n",
    "labels = tf.placeholder(tf.int32,[TRAIN_BATCH_SIZE, IMAGE_HEIGHT, IMAGE_WIDTH])\n",
    "is_training = tf.placeholder(tf.bool)"
   ]
  },
  {
   "cell_type": "code",
   "execution_count": null,
   "metadata": {
    "collapsed": true
   },
   "outputs": [],
   "source": [
    "def segnet_simple(inputs_):\n",
    "    conv1_w = Normal(loc=tf.zeros([3,3,3,NUM_CLASSES]), scale=tf.ones([3,3,3,NUM_CLASSES]))\n",
    "    conv1_b = Normal(loc=tf.zeros([NUM_CLASSES]), scale=tf.ones([NUM_CLASSES]))\n",
    "    conv1_logit = tf.nn.conv2d(inputs_,conv1_w, strides=[1,1,1,1], padding='SAME')\n",
    "    conv1_logit = conv1_logit + conv1_b\n",
    "    predicted_mask = Categorical(logits=conv1_logit)\n",
    "    conv1_qw = Normal(loc=tf.Variable(tf.random_normal([3,3,3,NUM_CLASSES])), \n",
    "                  scale=tf.nn.softplus(tf.Variable(tf.random_normal([3,3,3,NUM_CLASSES]))))\n",
    "    conv1_qb = Normal(loc=tf.Variable(tf.random_normal([NUM_CLASSES])),\n",
    "                      scale=tf.nn.softplus(tf.Variable(tf.random_normal([NUM_CLASSES]))))\n",
    "    latent_dict = {conv1_w: conv1_qw, conv1_b: conv1_qb}\n",
    "    return predicted_mask, latent_dict\n",
    "\n",
    "predicted_mask, latent_dict = segnet_simple(inputs)"
   ]
  },
  {
   "cell_type": "code",
   "execution_count": null,
   "metadata": {
    "collapsed": true
   },
   "outputs": [],
   "source": [
    "def segnet_advanced(inputs_, is_training):\n",
    "    conv1_w = Normal(loc=tf.zeros([3,3,3,64]), scale=tf.ones([3,3,3,64]))\n",
    "    conv1_b = Normal(loc=tf.zeros([64]), scale=tf.ones([64]))\n",
    "    net = tf.nn.conv2d(inputs,conv1_w, strides=[1,1,1,1], padding='SAME')\n",
    "    net = net + conv1_b\n",
    "    net = tf.contrib.layers.batch_norm(net, is_training=is_training)\n",
    "    net = tf.nn.relu(net)\n",
    "    net, arg1 = tf.nn.max_pool_with_argmax(net, ksize=[1, 2, 2, 1], strides=[1, 2, 2, 1], padding='SAME')\n",
    "    net = unpool_with_argmax(net, arg1, name='maxunpool3')\n",
    "    conv1r_w = Normal(loc=tf.zeros([3,3,64,NUM_CLASSES]), scale=tf.ones([3,3,64,NUM_CLASSES]))\n",
    "    conv1r_b = Normal(loc=tf.zeros([NUM_CLASSES]), scale=tf.ones([NUM_CLASSES]))\n",
    "    net = tf.nn.conv2d(net,conv1r_w, strides=[1,1,1,1], padding='SAME')\n",
    "    net = net + conv1r_b\n",
    "    predicted_mask = Categorical(logits=net)\n",
    "    conv1_qw = Normal(loc=tf.Variable(tf.random_normal([3,3,3,64])), \n",
    "                      scale=tf.nn.softplus(tf.Variable(tf.random_normal([3,3,3,64]))))\n",
    "    conv1_qb = Normal(loc=tf.Variable(tf.random_normal([64])),\n",
    "                          scale=tf.nn.softplus(tf.Variable(tf.random_normal([64]))))\n",
    "\n",
    "    conv1r_qw = Normal(loc=tf.Variable(tf.random_normal([3,3,64,NUM_CLASSES])), \n",
    "                      scale=tf.nn.softplus(tf.Variable(tf.random_normal([3,3,64,NUM_CLASSES]))))\n",
    "    conv1r_qb = Normal(loc=tf.Variable(tf.random_normal([NUM_CLASSES])),\n",
    "                          scale=tf.nn.softplus(tf.Variable(tf.random_normal([NUM_CLASSES]))))\n",
    "    latent_dict = {conv1_w: conv1_qw, conv1_b: conv1_qb, conv1r_w:conv1r_qw, conv1r_b: conv1r_qb }\n",
    "    \n",
    "    return predicted_mask, latent_dict\n",
    "\n",
    "predicted_mask, latent_dict = segnet_advanced(inputs, is_training)"
   ]
  },
  {
   "cell_type": "code",
   "execution_count": 17,
   "metadata": {
    "collapsed": true
   },
   "outputs": [],
   "source": [
    "def segnet_advanced2(inputs_, is_training):\n",
    "    conv1_w = Normal(loc=tf.zeros([3,3,3,64]), scale=tf.ones([3,3,3,64]))\n",
    "    conv1_b = Normal(loc=tf.zeros([64]), scale=tf.ones([64]))\n",
    "    net = tf.nn.conv2d(inputs,conv1_w, strides=[1,1,1,1], padding='SAME')\n",
    "    net = net + conv1_b\n",
    "    net = tf.contrib.layers.batch_norm(net, is_training=is_training, decay=0.99)\n",
    "    net = tf.nn.relu(net)\n",
    "    net, arg1 = tf.nn.max_pool_with_argmax(net, ksize=[1, 2, 2, 1], strides=[1, 2, 2, 1], padding='SAME')\n",
    "\n",
    "    \n",
    "    conv2_w = Normal(loc=tf.zeros([3,3,64,128]), scale=tf.ones([3,3,64,128]))\n",
    "    conv2_b = Normal(loc=tf.zeros([128]), scale=tf.ones([128]))\n",
    "    net = tf.nn.conv2d(net,conv2_w, strides=[1,1,1,1], padding='SAME')\n",
    "    net = net + conv2_b\n",
    "    net = tf.contrib.layers.batch_norm(net, is_training=is_training, decay=0.99)\n",
    "    net = tf.nn.relu(net)\n",
    "    net, arg2 = tf.nn.max_pool_with_argmax(net, ksize=[1, 2, 2, 1], strides=[1, 2, 2, 1], padding='SAME')\n",
    "    \n",
    "    conv3_w = Normal(loc=tf.zeros([3,3,128,256]), scale=tf.ones([3,3,128,256]))\n",
    "    conv3_b = Normal(loc=tf.zeros([256]), scale=tf.ones([256]))\n",
    "    net = tf.nn.conv2d(net,conv3_w, strides=[1,1,1,1], padding='SAME')\n",
    "    net = net + conv3_b\n",
    "    net = tf.contrib.layers.batch_norm(net, is_training=is_training, decay=0.99)\n",
    "    net = tf.nn.relu(net)\n",
    "    net, arg3 = tf.nn.max_pool_with_argmax(net, ksize=[1, 2, 2, 1], strides=[1, 2, 2, 1], padding='SAME')\n",
    "\n",
    "    net = unpool_with_argmax(net, arg3, name='maxunpool_arg3')\n",
    "    conv3r_w = Normal(loc=tf.zeros([3,3,256,128]), scale=tf.ones([3,3,256,128]))\n",
    "    conv3r_b = Normal(loc=tf.zeros([128]), scale=tf.ones([128]))\n",
    "    net = tf.nn.conv2d(net,conv3r_w, strides=[1,1,1,1], padding='SAME')\n",
    "    net = net + conv3r_b\n",
    "    net = tf.contrib.layers.batch_norm(net, is_training=is_training, decay=0.99)\n",
    "    net = tf.nn.relu(net)\n",
    "    \n",
    "    net = unpool_with_argmax(net, arg2, name='maxunpool_arg2')\n",
    "    conv2r_w = Normal(loc=tf.zeros([3,3,128,64]), scale=tf.ones([3,3,128,64]))\n",
    "    conv2r_b = Normal(loc=tf.zeros([64]), scale=tf.ones([64]))\n",
    "    net = tf.nn.conv2d(net,conv2r_w, strides=[1,1,1,1], padding='SAME')\n",
    "    net = net + conv2r_b\n",
    "    net = tf.contrib.layers.batch_norm(net, is_training=is_training, decay=0.99)\n",
    "    net = tf.nn.relu(net)\n",
    "    \n",
    "    net = unpool_with_argmax(net, arg1, name='maxunpool_arg1')\n",
    "    conv1r_w = Normal(loc=tf.zeros([3,3,64,NUM_CLASSES]), scale=tf.ones([3,3,64,NUM_CLASSES]))\n",
    "    conv1r_b = Normal(loc=tf.zeros([NUM_CLASSES]), scale=tf.ones([NUM_CLASSES]))\n",
    "    net = tf.nn.conv2d(net,conv1r_w, strides=[1,1,1,1], padding='SAME')\n",
    "    net = net + conv1r_b\n",
    "    #net = tf.contrib.layers.batch_norm(net, is_training=is_training, decay=0.99)\n",
    "    #net = tf.nn.relu(net)\n",
    "    \n",
    "    predicted_mask = Categorical(logits=net)\n",
    "    \n",
    "    conv3_qw = Normal(loc=tf.Variable(tf.random_normal([3,3,128,256])), \n",
    "                      scale=tf.nn.softplus(tf.Variable(tf.random_normal([3,3,128,256]))))\n",
    "    conv3_qb = Normal(loc=tf.Variable(tf.random_normal([256])),\n",
    "                          scale=tf.nn.softplus(tf.Variable(tf.random_normal([256]))))\n",
    "    \n",
    "    conv3r_qw = Normal(loc=tf.Variable(tf.random_normal([3,3,256,128])), \n",
    "                      scale=tf.nn.softplus(tf.Variable(tf.random_normal([3,3,256,128]))))\n",
    "    conv3r_qb = Normal(loc=tf.Variable(tf.random_normal([128])),\n",
    "                          scale=tf.nn.softplus(tf.Variable(tf.random_normal([128]))))\n",
    "    \n",
    "    conv2_qw = Normal(loc=tf.Variable(tf.random_normal([3,3,64,128])), \n",
    "                      scale=tf.nn.softplus(tf.Variable(tf.random_normal([3,3,64,128]))))\n",
    "    conv2_qb = Normal(loc=tf.Variable(tf.random_normal([128])),\n",
    "                          scale=tf.nn.softplus(tf.Variable(tf.random_normal([128]))))\n",
    "\n",
    "    conv2r_qw = Normal(loc=tf.Variable(tf.random_normal([3,3,128,64])), \n",
    "                      scale=tf.nn.softplus(tf.Variable(tf.random_normal([3,3,128,64]))))\n",
    "    conv2r_qb = Normal(loc=tf.Variable(tf.random_normal([64])),\n",
    "                          scale=tf.nn.softplus(tf.Variable(tf.random_normal([64]))))\n",
    "    \n",
    "    conv1_qw = Normal(loc=tf.Variable(tf.random_normal([3,3,3,64])), \n",
    "                      scale=tf.nn.softplus(tf.Variable(tf.random_normal([3,3,3,64]))))\n",
    "    conv1_qb = Normal(loc=tf.Variable(tf.random_normal([64])),\n",
    "                          scale=tf.nn.softplus(tf.Variable(tf.random_normal([64]))))\n",
    "\n",
    "    conv1r_qw = Normal(loc=tf.Variable(tf.random_normal([3,3,64,NUM_CLASSES])), \n",
    "                      scale=tf.nn.softplus(tf.Variable(tf.random_normal([3,3,64,NUM_CLASSES]))))\n",
    "    conv1r_qb = Normal(loc=tf.Variable(tf.random_normal([NUM_CLASSES])),\n",
    "                          scale=tf.nn.softplus(tf.Variable(tf.random_normal([NUM_CLASSES]))))\n",
    "    \n",
    "    \n",
    "    latent_dict = {conv1_w: conv1_qw, conv1_b: conv1_qb, \n",
    "                   conv1r_w:conv1r_qw, conv1r_b: conv1r_qb,\n",
    "                   conv2_w: conv2_qw, conv2_b: conv2_qb, \n",
    "                   conv2r_w:conv2r_qw, conv2r_b: conv2r_qb,\n",
    "                   conv3_w: conv3_qw, conv3_b: conv3_qb, \n",
    "                   conv3r_w:conv3r_qw, conv3r_b: conv3r_qb\n",
    "                  }\n",
    "    \n",
    "    return predicted_mask, latent_dict\n",
    "\n",
    "predicted_mask, latent_dict = segnet_advanced2(inputs, is_training)"
   ]
  },
  {
   "cell_type": "code",
   "execution_count": null,
   "metadata": {
    "collapsed": true
   },
   "outputs": [],
   "source": [
    "def segnet_advanced3(inputs_, is_training):\n",
    "    conv1_w = Normal(loc=tf.zeros([3,3,3,64]), scale=tf.ones([3,3,3,64]))\n",
    "    conv1_b = Normal(loc=tf.zeros([64]), scale=tf.ones([64]))\n",
    "    conv11_w = Normal(loc=tf.zeros([3,3,64,64]), scale=tf.ones([3,3,64,64]))\n",
    "    conv11_b = Normal(loc=tf.zeros([64]), scale=tf.ones([64]))\n",
    "    net = tf.nn.conv2d(inputs,conv1_w, strides=[1,1,1,1], padding='SAME')\n",
    "    net = net + conv1_b\n",
    "    net = tf.contrib.layers.batch_norm(net, is_training=is_training, decay=0.99)\n",
    "    net = tf.nn.relu(net)\n",
    "    net = tf.nn.conv2d(net,conv11_w, strides=[1,1,1,1], padding='SAME')\n",
    "    net = net + conv11_b\n",
    "    net = tf.contrib.layers.batch_norm(net, is_training=is_training, decay=0.99)\n",
    "    net = tf.nn.relu(net)\n",
    "    net, arg1 = tf.nn.max_pool_with_argmax(net, ksize=[1, 2, 2, 1], strides=[1, 2, 2, 1], padding='SAME')\n",
    "\n",
    "    \n",
    "    conv2_w = Normal(loc=tf.zeros([3,3,64,128]), scale=tf.ones([3,3,64,128]))\n",
    "    conv2_b = Normal(loc=tf.zeros([128]), scale=tf.ones([128]))\n",
    "    conv21_w = Normal(loc=tf.zeros([3,3,128,128]), scale=tf.ones([3,3,128,128]))\n",
    "    conv21_b = Normal(loc=tf.zeros([128]), scale=tf.ones([128]))\n",
    "    net = tf.nn.conv2d(net,conv2_w, strides=[1,1,1,1], padding='SAME')\n",
    "    net = net + conv2_b\n",
    "    net = tf.contrib.layers.batch_norm(net, is_training=is_training, decay=0.99)\n",
    "    net = tf.nn.relu(net)\n",
    "    net = tf.nn.conv2d(net,conv21_w, strides=[1,1,1,1], padding='SAME')\n",
    "    net = net + conv21_b\n",
    "    net = tf.contrib.layers.batch_norm(net, is_training=is_training, decay=0.99)\n",
    "    net = tf.nn.relu(net)\n",
    "    net, arg2 = tf.nn.max_pool_with_argmax(net, ksize=[1, 2, 2, 1], strides=[1, 2, 2, 1], padding='SAME')\n",
    "    \n",
    "    conv3_w = Normal(loc=tf.zeros([3,3,128,256]), scale=tf.ones([3,3,128,256]))\n",
    "    conv3_b = Normal(loc=tf.zeros([256]), scale=tf.ones([256]))\n",
    "    net = tf.nn.conv2d(net,conv3_w, strides=[1,1,1,1], padding='SAME')\n",
    "    net = net + conv3_b\n",
    "    net = tf.contrib.layers.batch_norm(net, is_training=is_training, decay=0.99)\n",
    "    net = tf.nn.relu(net)\n",
    "    net, arg3 = tf.nn.max_pool_with_argmax(net, ksize=[1, 2, 2, 1], strides=[1, 2, 2, 1], padding='SAME')\n",
    "\n",
    "    net = unpool_with_argmax(net, arg3, name='maxunpool_arg3')\n",
    "    conv3r_w = Normal(loc=tf.zeros([3,3,256,128]), scale=tf.ones([3,3,256,128]))\n",
    "    conv3r_b = Normal(loc=tf.zeros([128]), scale=tf.ones([128]))\n",
    "    net = tf.nn.conv2d(net,conv3r_w, strides=[1,1,1,1], padding='SAME')\n",
    "    net = net + conv3r_b\n",
    "    net = tf.contrib.layers.batch_norm(net, is_training=is_training, decay=0.99)\n",
    "    net = tf.nn.relu(net)\n",
    "    \n",
    "    net = unpool_with_argmax(net, arg2, name='maxunpool_arg2')\n",
    "    conv21r_w = Normal(loc=tf.zeros([3,3,128,128]), scale=tf.ones([3,3,128,128]))\n",
    "    conv21r_b = Normal(loc=tf.zeros([128]), scale=tf.ones([128]))\n",
    "    net = tf.nn.conv2d(net,conv21r_w, strides=[1,1,1,1], padding='SAME')\n",
    "    net = net + conv21r_b\n",
    "    net = tf.contrib.layers.batch_norm(net, is_training=is_training, decay=0.99)\n",
    "    net = tf.nn.relu(net)\n",
    "    conv2r_w = Normal(loc=tf.zeros([3,3,128,64]), scale=tf.ones([3,3,128,64]))\n",
    "    conv2r_b = Normal(loc=tf.zeros([64]), scale=tf.ones([64]))\n",
    "    net = tf.nn.conv2d(net,conv2r_w, strides=[1,1,1,1], padding='SAME')\n",
    "    net = net + conv2r_b\n",
    "    net = tf.contrib.layers.batch_norm(net, is_training=is_training, decay=0.99)\n",
    "    net = tf.nn.relu(net)\n",
    "    \n",
    "    net = unpool_with_argmax(net, arg1, name='maxunpool_arg1')\n",
    "    conv11r_w = Normal(loc=tf.zeros([3,3,64,64]), scale=tf.ones([3,3,64,64]))\n",
    "    conv11r_b = Normal(loc=tf.zeros([64]), scale=tf.ones([64]))\n",
    "    net = tf.nn.conv2d(net,conv11r_w, strides=[1,1,1,1], padding='SAME')\n",
    "    net = net + conv11r_b\n",
    "    net = tf.contrib.layers.batch_norm(net, is_training=is_training, decay=0.99)\n",
    "    net = tf.nn.relu(net)\n",
    "    conv1r_w = Normal(loc=tf.zeros([3,3,64,NUM_CLASSES]), scale=tf.ones([3,3,64,NUM_CLASSES]))\n",
    "    conv1r_b = Normal(loc=tf.zeros([NUM_CLASSES]), scale=tf.ones([NUM_CLASSES]))\n",
    "    net = tf.nn.conv2d(net,conv1r_w, strides=[1,1,1,1], padding='SAME')\n",
    "    net = net + conv1r_b\n",
    "    #net = tf.contrib.layers.batch_norm(net, is_training=is_training, decay=0.99)\n",
    "    #net = tf.nn.relu(net)\n",
    "    \n",
    "    predicted_mask = Categorical(logits=net)\n",
    "    \n",
    "    conv3_qw = Normal(loc=tf.Variable(tf.random_normal([3,3,128,256])), \n",
    "                      scale=tf.nn.softplus(tf.Variable(tf.random_normal([3,3,128,256]))))\n",
    "    conv3_qb = Normal(loc=tf.Variable(tf.random_normal([256])),\n",
    "                          scale=tf.nn.softplus(tf.Variable(tf.random_normal([256]))))\n",
    "    \n",
    "    conv3r_qw = Normal(loc=tf.Variable(tf.random_normal([3,3,256,128])), \n",
    "                      scale=tf.nn.softplus(tf.Variable(tf.random_normal([3,3,256,128]))))\n",
    "    conv3r_qb = Normal(loc=tf.Variable(tf.random_normal([128])),\n",
    "                          scale=tf.nn.softplus(tf.Variable(tf.random_normal([128]))))\n",
    "    \n",
    "    conv2_qw = Normal(loc=tf.Variable(tf.random_normal([3,3,64,128])), \n",
    "                      scale=tf.nn.softplus(tf.Variable(tf.random_normal([3,3,64,128]))))\n",
    "    conv2_qb = Normal(loc=tf.Variable(tf.random_normal([128])),\n",
    "                          scale=tf.nn.softplus(tf.Variable(tf.random_normal([128]))))\n",
    "    conv21_qw = Normal(loc=tf.Variable(tf.random_normal([3,3,128,128])), \n",
    "                      scale=tf.nn.softplus(tf.Variable(tf.random_normal([3,3,128,128]))))\n",
    "    conv21_qb = Normal(loc=tf.Variable(tf.random_normal([128])),\n",
    "                          scale=tf.nn.softplus(tf.Variable(tf.random_normal([128]))))\n",
    "\n",
    "    conv21r_qw = Normal(loc=tf.Variable(tf.random_normal([3,3,128,128])), \n",
    "                      scale=tf.nn.softplus(tf.Variable(tf.random_normal([3,3,128,128]))))\n",
    "    conv21r_qb = Normal(loc=tf.Variable(tf.random_normal([128])),\n",
    "                          scale=tf.nn.softplus(tf.Variable(tf.random_normal([128]))))\n",
    "    \n",
    "    conv2r_qw = Normal(loc=tf.Variable(tf.random_normal([3,3,128,64])), \n",
    "                      scale=tf.nn.softplus(tf.Variable(tf.random_normal([3,3,128,64]))))\n",
    "    conv2r_qb = Normal(loc=tf.Variable(tf.random_normal([64])),\n",
    "                          scale=tf.nn.softplus(tf.Variable(tf.random_normal([64]))))\n",
    "    \n",
    "    conv1_qw = Normal(loc=tf.Variable(tf.random_normal([3,3,3,64])), \n",
    "                      scale=tf.nn.softplus(tf.Variable(tf.random_normal([3,3,3,64]))))\n",
    "    conv1_qb = Normal(loc=tf.Variable(tf.random_normal([64])),\n",
    "                          scale=tf.nn.softplus(tf.Variable(tf.random_normal([64]))))\n",
    "    \n",
    "    conv11_qw = Normal(loc=tf.Variable(tf.random_normal([3,3,64,64])), \n",
    "                      scale=tf.nn.softplus(tf.Variable(tf.random_normal([3,3,64,64]))))\n",
    "    conv11_qb = Normal(loc=tf.Variable(tf.random_normal([64])),\n",
    "                          scale=tf.nn.softplus(tf.Variable(tf.random_normal([64]))))\n",
    "    \n",
    "    conv11r_qw = Normal(loc=tf.Variable(tf.random_normal([3,3,64,64])), \n",
    "                      scale=tf.nn.softplus(tf.Variable(tf.random_normal([3,3,64,64]))))\n",
    "    conv11r_qb = Normal(loc=tf.Variable(tf.random_normal([64])),\n",
    "                          scale=tf.nn.softplus(tf.Variable(tf.random_normal([64]))))\n",
    "\n",
    "    conv1r_qw = Normal(loc=tf.Variable(tf.random_normal([3,3,64,NUM_CLASSES])), \n",
    "                      scale=tf.nn.softplus(tf.Variable(tf.random_normal([3,3,64,NUM_CLASSES]))))\n",
    "    conv1r_qb = Normal(loc=tf.Variable(tf.random_normal([NUM_CLASSES])),\n",
    "                          scale=tf.nn.softplus(tf.Variable(tf.random_normal([NUM_CLASSES]))))\n",
    "    \n",
    "    \n",
    "    latent_dict = {conv1_w: conv1_qw, conv1_b: conv1_qb, \n",
    "                   conv11_w: conv11_qw, conv11_b: conv11_qb, \n",
    "                   conv1r_w:conv1r_qw, conv1r_b: conv1r_qb,\n",
    "                   conv11r_w:conv11r_qw, conv11r_b: conv11r_qb,\n",
    "                   conv2_w: conv2_qw, conv2_b: conv2_qb, \n",
    "                   conv21_w: conv21_qw, conv21_b: conv21_qb,\n",
    "                   conv21r_w:conv21r_qw, conv21r_b: conv21r_qb,\n",
    "                   conv2r_w:conv2r_qw, conv2r_b: conv2r_qb,\n",
    "                   conv3_w: conv3_qw, conv3_b: conv3_qb, \n",
    "                   conv3r_w:conv3r_qw, conv3r_b: conv3r_qb\n",
    "                  }\n",
    "    \n",
    "    return predicted_mask, latent_dict\n",
    "\n",
    "predicted_mask, latent_dict = segnet_advanced3(inputs, is_training)"
   ]
  },
  {
   "cell_type": "code",
   "execution_count": 18,
   "metadata": {},
   "outputs": [
    {
     "data": {
      "text/plain": [
       "{<ed.RandomVariable 'Normal_2/' shape=(3, 3, 3, 64) dtype=float32>: <ed.RandomVariable 'Normal_62/' shape=(3, 3, 3, 64) dtype=float32>,\n",
       " <ed.RandomVariable 'Normal_5/' shape=(64,) dtype=float32>: <ed.RandomVariable 'Normal_65/' shape=(64,) dtype=float32>,\n",
       " <ed.RandomVariable 'Normal_32/' shape=(3, 3, 64, 12) dtype=float32>: <ed.RandomVariable 'Normal_68/' shape=(3, 3, 64, 12) dtype=float32>,\n",
       " <ed.RandomVariable 'Normal_35/' shape=(12,) dtype=float32>: <ed.RandomVariable 'Normal_71/' shape=(12,) dtype=float32>,\n",
       " <ed.RandomVariable 'Normal_8/' shape=(3, 3, 64, 128) dtype=float32>: <ed.RandomVariable 'Normal_50/' shape=(3, 3, 64, 128) dtype=float32>,\n",
       " <ed.RandomVariable 'Normal_11/' shape=(128,) dtype=float32>: <ed.RandomVariable 'Normal_53/' shape=(128,) dtype=float32>,\n",
       " <ed.RandomVariable 'Normal_26/' shape=(3, 3, 128, 64) dtype=float32>: <ed.RandomVariable 'Normal_56/' shape=(3, 3, 128, 64) dtype=float32>,\n",
       " <ed.RandomVariable 'Normal_29/' shape=(64,) dtype=float32>: <ed.RandomVariable 'Normal_59/' shape=(64,) dtype=float32>,\n",
       " <ed.RandomVariable 'Normal_14/' shape=(3, 3, 128, 256) dtype=float32>: <ed.RandomVariable 'Normal_38/' shape=(3, 3, 128, 256) dtype=float32>,\n",
       " <ed.RandomVariable 'Normal_17/' shape=(256,) dtype=float32>: <ed.RandomVariable 'Normal_41/' shape=(256,) dtype=float32>,\n",
       " <ed.RandomVariable 'Normal_20/' shape=(3, 3, 256, 128) dtype=float32>: <ed.RandomVariable 'Normal_44/' shape=(3, 3, 256, 128) dtype=float32>,\n",
       " <ed.RandomVariable 'Normal_23/' shape=(128,) dtype=float32>: <ed.RandomVariable 'Normal_47/' shape=(128,) dtype=float32>}"
      ]
     },
     "execution_count": 18,
     "metadata": {},
     "output_type": "execute_result"
    }
   ],
   "source": [
    "latent_dict"
   ]
  },
  {
   "cell_type": "code",
   "execution_count": null,
   "metadata": {
    "collapsed": true
   },
   "outputs": [],
   "source": [
    "inference = ed.KLqp(latent_dict, data={predicted_mask: labels})"
   ]
  },
  {
   "cell_type": "code",
   "execution_count": null,
   "metadata": {},
   "outputs": [],
   "source": [
    "N = NUM_TRAIN\n",
    "M = TRAIN_BATCH_SIZE\n",
    "n_batch=int(N/M)\n",
    "n_epoch = 150\n",
    "loss = []\n",
    "inference.initialize(n_iter=n_batch*n_epoch, n_samples=5, scale={predicted_mask: N/M})\n",
    "saver = tf.train.Saver()\n",
    "sess = ed.get_session()\n",
    "sess.run(tf.global_variables_initializer())\n",
    "sess.run(train_iterator.initializer)\n",
    "for i in range(inference.n_iter):\n",
    "    train_image, train_labels =sess.run(train_iterator.get_next())\n",
    "    if len(train_image) < TRAIN_BATCH_SIZE:\n",
    "        sess.run(train_iterator.initializer)\n",
    "        train_image, train_labels =sess.run(train_iterator.get_next())\n",
    "    info_dict = inference.update({inputs: train_image, labels: train_labels, is_training: True})\n",
    "    inference.print_progress(info_dict)\n",
    "    loss.append(info_dict['loss'])\n",
    "    if info_dict['loss'] < 0.8e+6:\n",
    "        print(i)\n",
    "        break\n",
    "saver.save(sess, \"tmp/test_saver\")"
   ]
  },
  {
   "cell_type": "code",
   "execution_count": 19,
   "metadata": {},
   "outputs": [
    {
     "name": "stdout",
     "output_type": "stream",
     "text": [
      "INFO:tensorflow:Restoring parameters from tmp/test_saver\n"
     ]
    },
    {
     "ename": "InvalidArgumentError",
     "evalue": "Assign requires shapes of both tensors to match. lhs shape= [3,3,3,64] rhs shape= [3,3,128,128]\n\t [[Node: save/Assign_23 = Assign[T=DT_FLOAT, _class=[\"loc:@Variable_16\"], use_locking=true, validate_shape=true, _device=\"/job:localhost/replica:0/task:0/gpu:0\"](Variable_16, save/RestoreV2_23/_15)]]\n\nCaused by op 'save/Assign_23', defined at:\n  File \"/home/aravind/anaconda3/lib/python3.6/runpy.py\", line 193, in _run_module_as_main\n    \"__main__\", mod_spec)\n  File \"/home/aravind/anaconda3/lib/python3.6/runpy.py\", line 85, in _run_code\n    exec(code, run_globals)\n  File \"/home/aravind/anaconda3/lib/python3.6/site-packages/ipykernel_launcher.py\", line 16, in <module>\n    app.launch_new_instance()\n  File \"/home/aravind/anaconda3/lib/python3.6/site-packages/traitlets/config/application.py\", line 658, in launch_instance\n    app.start()\n  File \"/home/aravind/anaconda3/lib/python3.6/site-packages/ipykernel/kernelapp.py\", line 477, in start\n    ioloop.IOLoop.instance().start()\n  File \"/home/aravind/anaconda3/lib/python3.6/site-packages/zmq/eventloop/ioloop.py\", line 177, in start\n    super(ZMQIOLoop, self).start()\n  File \"/home/aravind/anaconda3/lib/python3.6/site-packages/tornado/ioloop.py\", line 888, in start\n    handler_func(fd_obj, events)\n  File \"/home/aravind/anaconda3/lib/python3.6/site-packages/tornado/stack_context.py\", line 277, in null_wrapper\n    return fn(*args, **kwargs)\n  File \"/home/aravind/anaconda3/lib/python3.6/site-packages/zmq/eventloop/zmqstream.py\", line 440, in _handle_events\n    self._handle_recv()\n  File \"/home/aravind/anaconda3/lib/python3.6/site-packages/zmq/eventloop/zmqstream.py\", line 472, in _handle_recv\n    self._run_callback(callback, msg)\n  File \"/home/aravind/anaconda3/lib/python3.6/site-packages/zmq/eventloop/zmqstream.py\", line 414, in _run_callback\n    callback(*args, **kwargs)\n  File \"/home/aravind/anaconda3/lib/python3.6/site-packages/tornado/stack_context.py\", line 277, in null_wrapper\n    return fn(*args, **kwargs)\n  File \"/home/aravind/anaconda3/lib/python3.6/site-packages/ipykernel/kernelbase.py\", line 283, in dispatcher\n    return self.dispatch_shell(stream, msg)\n  File \"/home/aravind/anaconda3/lib/python3.6/site-packages/ipykernel/kernelbase.py\", line 235, in dispatch_shell\n    handler(stream, idents, msg)\n  File \"/home/aravind/anaconda3/lib/python3.6/site-packages/ipykernel/kernelbase.py\", line 399, in execute_request\n    user_expressions, allow_stdin)\n  File \"/home/aravind/anaconda3/lib/python3.6/site-packages/ipykernel/ipkernel.py\", line 196, in do_execute\n    res = shell.run_cell(code, store_history=store_history, silent=silent)\n  File \"/home/aravind/anaconda3/lib/python3.6/site-packages/ipykernel/zmqshell.py\", line 533, in run_cell\n    return super(ZMQInteractiveShell, self).run_cell(*args, **kwargs)\n  File \"/home/aravind/anaconda3/lib/python3.6/site-packages/IPython/core/interactiveshell.py\", line 2717, in run_cell\n    interactivity=interactivity, compiler=compiler, result=result)\n  File \"/home/aravind/anaconda3/lib/python3.6/site-packages/IPython/core/interactiveshell.py\", line 2821, in run_ast_nodes\n    if self.run_code(code, result):\n  File \"/home/aravind/anaconda3/lib/python3.6/site-packages/IPython/core/interactiveshell.py\", line 2881, in run_code\n    exec(code_obj, self.user_global_ns, self.user_ns)\n  File \"<ipython-input-19-ad8ec01d825a>\", line 2, in <module>\n    saver = tf.train.Saver()\n  File \"/home/aravind/anaconda3/lib/python3.6/site-packages/tensorflow/python/training/saver.py\", line 1140, in __init__\n    self.build()\n  File \"/home/aravind/anaconda3/lib/python3.6/site-packages/tensorflow/python/training/saver.py\", line 1172, in build\n    filename=self._filename)\n  File \"/home/aravind/anaconda3/lib/python3.6/site-packages/tensorflow/python/training/saver.py\", line 688, in build\n    restore_sequentially, reshape)\n  File \"/home/aravind/anaconda3/lib/python3.6/site-packages/tensorflow/python/training/saver.py\", line 419, in _AddRestoreOps\n    assign_ops.append(saveable.restore(tensors, shapes))\n  File \"/home/aravind/anaconda3/lib/python3.6/site-packages/tensorflow/python/training/saver.py\", line 155, in restore\n    self.op.get_shape().is_fully_defined())\n  File \"/home/aravind/anaconda3/lib/python3.6/site-packages/tensorflow/python/ops/state_ops.py\", line 274, in assign\n    validate_shape=validate_shape)\n  File \"/home/aravind/anaconda3/lib/python3.6/site-packages/tensorflow/python/ops/gen_state_ops.py\", line 43, in assign\n    use_locking=use_locking, name=name)\n  File \"/home/aravind/anaconda3/lib/python3.6/site-packages/tensorflow/python/framework/op_def_library.py\", line 767, in apply_op\n    op_def=op_def)\n  File \"/home/aravind/anaconda3/lib/python3.6/site-packages/tensorflow/python/framework/ops.py\", line 2630, in create_op\n    original_op=self._default_original_op, op_def=op_def)\n  File \"/home/aravind/anaconda3/lib/python3.6/site-packages/tensorflow/python/framework/ops.py\", line 1204, in __init__\n    self._traceback = self._graph._extract_stack()  # pylint: disable=protected-access\n\nInvalidArgumentError (see above for traceback): Assign requires shapes of both tensors to match. lhs shape= [3,3,3,64] rhs shape= [3,3,128,128]\n\t [[Node: save/Assign_23 = Assign[T=DT_FLOAT, _class=[\"loc:@Variable_16\"], use_locking=true, validate_shape=true, _device=\"/job:localhost/replica:0/task:0/gpu:0\"](Variable_16, save/RestoreV2_23/_15)]]\n",
     "output_type": "error",
     "traceback": [
      "\u001b[0;31m---------------------------------------------------------------------------\u001b[0m",
      "\u001b[0;31mInvalidArgumentError\u001b[0m                      Traceback (most recent call last)",
      "\u001b[0;32m/home/aravind/anaconda3/lib/python3.6/site-packages/tensorflow/python/client/session.py\u001b[0m in \u001b[0;36m_do_call\u001b[0;34m(self, fn, *args)\u001b[0m\n\u001b[1;32m   1326\u001b[0m     \u001b[0;32mtry\u001b[0m\u001b[0;34m:\u001b[0m\u001b[0;34m\u001b[0m\u001b[0m\n\u001b[0;32m-> 1327\u001b[0;31m       \u001b[0;32mreturn\u001b[0m \u001b[0mfn\u001b[0m\u001b[0;34m(\u001b[0m\u001b[0;34m*\u001b[0m\u001b[0margs\u001b[0m\u001b[0;34m)\u001b[0m\u001b[0;34m\u001b[0m\u001b[0m\n\u001b[0m\u001b[1;32m   1328\u001b[0m     \u001b[0;32mexcept\u001b[0m \u001b[0merrors\u001b[0m\u001b[0;34m.\u001b[0m\u001b[0mOpError\u001b[0m \u001b[0;32mas\u001b[0m \u001b[0me\u001b[0m\u001b[0;34m:\u001b[0m\u001b[0;34m\u001b[0m\u001b[0m\n",
      "\u001b[0;32m/home/aravind/anaconda3/lib/python3.6/site-packages/tensorflow/python/client/session.py\u001b[0m in \u001b[0;36m_run_fn\u001b[0;34m(session, feed_dict, fetch_list, target_list, options, run_metadata)\u001b[0m\n\u001b[1;32m   1305\u001b[0m                                    \u001b[0mfeed_dict\u001b[0m\u001b[0;34m,\u001b[0m \u001b[0mfetch_list\u001b[0m\u001b[0;34m,\u001b[0m \u001b[0mtarget_list\u001b[0m\u001b[0;34m,\u001b[0m\u001b[0;34m\u001b[0m\u001b[0m\n\u001b[0;32m-> 1306\u001b[0;31m                                    status, run_metadata)\n\u001b[0m\u001b[1;32m   1307\u001b[0m \u001b[0;34m\u001b[0m\u001b[0m\n",
      "\u001b[0;32m/home/aravind/anaconda3/lib/python3.6/contextlib.py\u001b[0m in \u001b[0;36m__exit__\u001b[0;34m(self, type, value, traceback)\u001b[0m\n\u001b[1;32m     88\u001b[0m             \u001b[0;32mtry\u001b[0m\u001b[0;34m:\u001b[0m\u001b[0;34m\u001b[0m\u001b[0m\n\u001b[0;32m---> 89\u001b[0;31m                 \u001b[0mnext\u001b[0m\u001b[0;34m(\u001b[0m\u001b[0mself\u001b[0m\u001b[0;34m.\u001b[0m\u001b[0mgen\u001b[0m\u001b[0;34m)\u001b[0m\u001b[0;34m\u001b[0m\u001b[0m\n\u001b[0m\u001b[1;32m     90\u001b[0m             \u001b[0;32mexcept\u001b[0m \u001b[0mStopIteration\u001b[0m\u001b[0;34m:\u001b[0m\u001b[0;34m\u001b[0m\u001b[0m\n",
      "\u001b[0;32m/home/aravind/anaconda3/lib/python3.6/site-packages/tensorflow/python/framework/errors_impl.py\u001b[0m in \u001b[0;36mraise_exception_on_not_ok_status\u001b[0;34m()\u001b[0m\n\u001b[1;32m    465\u001b[0m           \u001b[0mcompat\u001b[0m\u001b[0;34m.\u001b[0m\u001b[0mas_text\u001b[0m\u001b[0;34m(\u001b[0m\u001b[0mpywrap_tensorflow\u001b[0m\u001b[0;34m.\u001b[0m\u001b[0mTF_Message\u001b[0m\u001b[0;34m(\u001b[0m\u001b[0mstatus\u001b[0m\u001b[0;34m)\u001b[0m\u001b[0;34m)\u001b[0m\u001b[0;34m,\u001b[0m\u001b[0;34m\u001b[0m\u001b[0m\n\u001b[0;32m--> 466\u001b[0;31m           pywrap_tensorflow.TF_GetCode(status))\n\u001b[0m\u001b[1;32m    467\u001b[0m   \u001b[0;32mfinally\u001b[0m\u001b[0;34m:\u001b[0m\u001b[0;34m\u001b[0m\u001b[0m\n",
      "\u001b[0;31mInvalidArgumentError\u001b[0m: Assign requires shapes of both tensors to match. lhs shape= [3,3,3,64] rhs shape= [3,3,128,128]\n\t [[Node: save/Assign_23 = Assign[T=DT_FLOAT, _class=[\"loc:@Variable_16\"], use_locking=true, validate_shape=true, _device=\"/job:localhost/replica:0/task:0/gpu:0\"](Variable_16, save/RestoreV2_23/_15)]]",
      "\nDuring handling of the above exception, another exception occurred:\n",
      "\u001b[0;31mInvalidArgumentError\u001b[0m                      Traceback (most recent call last)",
      "\u001b[0;32m<ipython-input-19-ad8ec01d825a>\u001b[0m in \u001b[0;36m<module>\u001b[0;34m()\u001b[0m\n\u001b[1;32m      1\u001b[0m \u001b[0msess\u001b[0m \u001b[0;34m=\u001b[0m \u001b[0med\u001b[0m\u001b[0;34m.\u001b[0m\u001b[0mget_session\u001b[0m\u001b[0;34m(\u001b[0m\u001b[0;34m)\u001b[0m\u001b[0;34m\u001b[0m\u001b[0m\n\u001b[1;32m      2\u001b[0m \u001b[0msaver\u001b[0m \u001b[0;34m=\u001b[0m \u001b[0mtf\u001b[0m\u001b[0;34m.\u001b[0m\u001b[0mtrain\u001b[0m\u001b[0;34m.\u001b[0m\u001b[0mSaver\u001b[0m\u001b[0;34m(\u001b[0m\u001b[0;34m)\u001b[0m\u001b[0;34m\u001b[0m\u001b[0m\n\u001b[0;32m----> 3\u001b[0;31m \u001b[0msaver\u001b[0m\u001b[0;34m.\u001b[0m\u001b[0mrestore\u001b[0m\u001b[0;34m(\u001b[0m\u001b[0msess\u001b[0m\u001b[0;34m,\u001b[0m \u001b[0;34m\"tmp/test_saver\"\u001b[0m\u001b[0;34m)\u001b[0m\u001b[0;34m\u001b[0m\u001b[0m\n\u001b[0m",
      "\u001b[0;32m/home/aravind/anaconda3/lib/python3.6/site-packages/tensorflow/python/training/saver.py\u001b[0m in \u001b[0;36mrestore\u001b[0;34m(self, sess, save_path)\u001b[0m\n\u001b[1;32m   1558\u001b[0m     \u001b[0mlogging\u001b[0m\u001b[0;34m.\u001b[0m\u001b[0minfo\u001b[0m\u001b[0;34m(\u001b[0m\u001b[0;34m\"Restoring parameters from %s\"\u001b[0m\u001b[0;34m,\u001b[0m \u001b[0msave_path\u001b[0m\u001b[0;34m)\u001b[0m\u001b[0;34m\u001b[0m\u001b[0m\n\u001b[1;32m   1559\u001b[0m     sess.run(self.saver_def.restore_op_name,\n\u001b[0;32m-> 1560\u001b[0;31m              {self.saver_def.filename_tensor_name: save_path})\n\u001b[0m\u001b[1;32m   1561\u001b[0m \u001b[0;34m\u001b[0m\u001b[0m\n\u001b[1;32m   1562\u001b[0m   \u001b[0;34m@\u001b[0m\u001b[0mstaticmethod\u001b[0m\u001b[0;34m\u001b[0m\u001b[0m\n",
      "\u001b[0;32m/home/aravind/anaconda3/lib/python3.6/site-packages/tensorflow/python/client/session.py\u001b[0m in \u001b[0;36mrun\u001b[0;34m(self, fetches, feed_dict, options, run_metadata)\u001b[0m\n\u001b[1;32m    893\u001b[0m     \u001b[0;32mtry\u001b[0m\u001b[0;34m:\u001b[0m\u001b[0;34m\u001b[0m\u001b[0m\n\u001b[1;32m    894\u001b[0m       result = self._run(None, fetches, feed_dict, options_ptr,\n\u001b[0;32m--> 895\u001b[0;31m                          run_metadata_ptr)\n\u001b[0m\u001b[1;32m    896\u001b[0m       \u001b[0;32mif\u001b[0m \u001b[0mrun_metadata\u001b[0m\u001b[0;34m:\u001b[0m\u001b[0;34m\u001b[0m\u001b[0m\n\u001b[1;32m    897\u001b[0m         \u001b[0mproto_data\u001b[0m \u001b[0;34m=\u001b[0m \u001b[0mtf_session\u001b[0m\u001b[0;34m.\u001b[0m\u001b[0mTF_GetBuffer\u001b[0m\u001b[0;34m(\u001b[0m\u001b[0mrun_metadata_ptr\u001b[0m\u001b[0;34m)\u001b[0m\u001b[0;34m\u001b[0m\u001b[0m\n",
      "\u001b[0;32m/home/aravind/anaconda3/lib/python3.6/site-packages/tensorflow/python/client/session.py\u001b[0m in \u001b[0;36m_run\u001b[0;34m(self, handle, fetches, feed_dict, options, run_metadata)\u001b[0m\n\u001b[1;32m   1122\u001b[0m     \u001b[0;32mif\u001b[0m \u001b[0mfinal_fetches\u001b[0m \u001b[0;32mor\u001b[0m \u001b[0mfinal_targets\u001b[0m \u001b[0;32mor\u001b[0m \u001b[0;34m(\u001b[0m\u001b[0mhandle\u001b[0m \u001b[0;32mand\u001b[0m \u001b[0mfeed_dict_tensor\u001b[0m\u001b[0;34m)\u001b[0m\u001b[0;34m:\u001b[0m\u001b[0;34m\u001b[0m\u001b[0m\n\u001b[1;32m   1123\u001b[0m       results = self._do_run(handle, final_targets, final_fetches,\n\u001b[0;32m-> 1124\u001b[0;31m                              feed_dict_tensor, options, run_metadata)\n\u001b[0m\u001b[1;32m   1125\u001b[0m     \u001b[0;32melse\u001b[0m\u001b[0;34m:\u001b[0m\u001b[0;34m\u001b[0m\u001b[0m\n\u001b[1;32m   1126\u001b[0m       \u001b[0mresults\u001b[0m \u001b[0;34m=\u001b[0m \u001b[0;34m[\u001b[0m\u001b[0;34m]\u001b[0m\u001b[0;34m\u001b[0m\u001b[0m\n",
      "\u001b[0;32m/home/aravind/anaconda3/lib/python3.6/site-packages/tensorflow/python/client/session.py\u001b[0m in \u001b[0;36m_do_run\u001b[0;34m(self, handle, target_list, fetch_list, feed_dict, options, run_metadata)\u001b[0m\n\u001b[1;32m   1319\u001b[0m     \u001b[0;32mif\u001b[0m \u001b[0mhandle\u001b[0m \u001b[0;32mis\u001b[0m \u001b[0;32mNone\u001b[0m\u001b[0;34m:\u001b[0m\u001b[0;34m\u001b[0m\u001b[0m\n\u001b[1;32m   1320\u001b[0m       return self._do_call(_run_fn, self._session, feeds, fetches, targets,\n\u001b[0;32m-> 1321\u001b[0;31m                            options, run_metadata)\n\u001b[0m\u001b[1;32m   1322\u001b[0m     \u001b[0;32melse\u001b[0m\u001b[0;34m:\u001b[0m\u001b[0;34m\u001b[0m\u001b[0m\n\u001b[1;32m   1323\u001b[0m       \u001b[0;32mreturn\u001b[0m \u001b[0mself\u001b[0m\u001b[0;34m.\u001b[0m\u001b[0m_do_call\u001b[0m\u001b[0;34m(\u001b[0m\u001b[0m_prun_fn\u001b[0m\u001b[0;34m,\u001b[0m \u001b[0mself\u001b[0m\u001b[0;34m.\u001b[0m\u001b[0m_session\u001b[0m\u001b[0;34m,\u001b[0m \u001b[0mhandle\u001b[0m\u001b[0;34m,\u001b[0m \u001b[0mfeeds\u001b[0m\u001b[0;34m,\u001b[0m \u001b[0mfetches\u001b[0m\u001b[0;34m)\u001b[0m\u001b[0;34m\u001b[0m\u001b[0m\n",
      "\u001b[0;32m/home/aravind/anaconda3/lib/python3.6/site-packages/tensorflow/python/client/session.py\u001b[0m in \u001b[0;36m_do_call\u001b[0;34m(self, fn, *args)\u001b[0m\n\u001b[1;32m   1338\u001b[0m         \u001b[0;32mexcept\u001b[0m \u001b[0mKeyError\u001b[0m\u001b[0;34m:\u001b[0m\u001b[0;34m\u001b[0m\u001b[0m\n\u001b[1;32m   1339\u001b[0m           \u001b[0;32mpass\u001b[0m\u001b[0;34m\u001b[0m\u001b[0m\n\u001b[0;32m-> 1340\u001b[0;31m       \u001b[0;32mraise\u001b[0m \u001b[0mtype\u001b[0m\u001b[0;34m(\u001b[0m\u001b[0me\u001b[0m\u001b[0;34m)\u001b[0m\u001b[0;34m(\u001b[0m\u001b[0mnode_def\u001b[0m\u001b[0;34m,\u001b[0m \u001b[0mop\u001b[0m\u001b[0;34m,\u001b[0m \u001b[0mmessage\u001b[0m\u001b[0;34m)\u001b[0m\u001b[0;34m\u001b[0m\u001b[0m\n\u001b[0m\u001b[1;32m   1341\u001b[0m \u001b[0;34m\u001b[0m\u001b[0m\n\u001b[1;32m   1342\u001b[0m   \u001b[0;32mdef\u001b[0m \u001b[0m_extend_graph\u001b[0m\u001b[0;34m(\u001b[0m\u001b[0mself\u001b[0m\u001b[0;34m)\u001b[0m\u001b[0;34m:\u001b[0m\u001b[0;34m\u001b[0m\u001b[0m\n",
      "\u001b[0;31mInvalidArgumentError\u001b[0m: Assign requires shapes of both tensors to match. lhs shape= [3,3,3,64] rhs shape= [3,3,128,128]\n\t [[Node: save/Assign_23 = Assign[T=DT_FLOAT, _class=[\"loc:@Variable_16\"], use_locking=true, validate_shape=true, _device=\"/job:localhost/replica:0/task:0/gpu:0\"](Variable_16, save/RestoreV2_23/_15)]]\n\nCaused by op 'save/Assign_23', defined at:\n  File \"/home/aravind/anaconda3/lib/python3.6/runpy.py\", line 193, in _run_module_as_main\n    \"__main__\", mod_spec)\n  File \"/home/aravind/anaconda3/lib/python3.6/runpy.py\", line 85, in _run_code\n    exec(code, run_globals)\n  File \"/home/aravind/anaconda3/lib/python3.6/site-packages/ipykernel_launcher.py\", line 16, in <module>\n    app.launch_new_instance()\n  File \"/home/aravind/anaconda3/lib/python3.6/site-packages/traitlets/config/application.py\", line 658, in launch_instance\n    app.start()\n  File \"/home/aravind/anaconda3/lib/python3.6/site-packages/ipykernel/kernelapp.py\", line 477, in start\n    ioloop.IOLoop.instance().start()\n  File \"/home/aravind/anaconda3/lib/python3.6/site-packages/zmq/eventloop/ioloop.py\", line 177, in start\n    super(ZMQIOLoop, self).start()\n  File \"/home/aravind/anaconda3/lib/python3.6/site-packages/tornado/ioloop.py\", line 888, in start\n    handler_func(fd_obj, events)\n  File \"/home/aravind/anaconda3/lib/python3.6/site-packages/tornado/stack_context.py\", line 277, in null_wrapper\n    return fn(*args, **kwargs)\n  File \"/home/aravind/anaconda3/lib/python3.6/site-packages/zmq/eventloop/zmqstream.py\", line 440, in _handle_events\n    self._handle_recv()\n  File \"/home/aravind/anaconda3/lib/python3.6/site-packages/zmq/eventloop/zmqstream.py\", line 472, in _handle_recv\n    self._run_callback(callback, msg)\n  File \"/home/aravind/anaconda3/lib/python3.6/site-packages/zmq/eventloop/zmqstream.py\", line 414, in _run_callback\n    callback(*args, **kwargs)\n  File \"/home/aravind/anaconda3/lib/python3.6/site-packages/tornado/stack_context.py\", line 277, in null_wrapper\n    return fn(*args, **kwargs)\n  File \"/home/aravind/anaconda3/lib/python3.6/site-packages/ipykernel/kernelbase.py\", line 283, in dispatcher\n    return self.dispatch_shell(stream, msg)\n  File \"/home/aravind/anaconda3/lib/python3.6/site-packages/ipykernel/kernelbase.py\", line 235, in dispatch_shell\n    handler(stream, idents, msg)\n  File \"/home/aravind/anaconda3/lib/python3.6/site-packages/ipykernel/kernelbase.py\", line 399, in execute_request\n    user_expressions, allow_stdin)\n  File \"/home/aravind/anaconda3/lib/python3.6/site-packages/ipykernel/ipkernel.py\", line 196, in do_execute\n    res = shell.run_cell(code, store_history=store_history, silent=silent)\n  File \"/home/aravind/anaconda3/lib/python3.6/site-packages/ipykernel/zmqshell.py\", line 533, in run_cell\n    return super(ZMQInteractiveShell, self).run_cell(*args, **kwargs)\n  File \"/home/aravind/anaconda3/lib/python3.6/site-packages/IPython/core/interactiveshell.py\", line 2717, in run_cell\n    interactivity=interactivity, compiler=compiler, result=result)\n  File \"/home/aravind/anaconda3/lib/python3.6/site-packages/IPython/core/interactiveshell.py\", line 2821, in run_ast_nodes\n    if self.run_code(code, result):\n  File \"/home/aravind/anaconda3/lib/python3.6/site-packages/IPython/core/interactiveshell.py\", line 2881, in run_code\n    exec(code_obj, self.user_global_ns, self.user_ns)\n  File \"<ipython-input-19-ad8ec01d825a>\", line 2, in <module>\n    saver = tf.train.Saver()\n  File \"/home/aravind/anaconda3/lib/python3.6/site-packages/tensorflow/python/training/saver.py\", line 1140, in __init__\n    self.build()\n  File \"/home/aravind/anaconda3/lib/python3.6/site-packages/tensorflow/python/training/saver.py\", line 1172, in build\n    filename=self._filename)\n  File \"/home/aravind/anaconda3/lib/python3.6/site-packages/tensorflow/python/training/saver.py\", line 688, in build\n    restore_sequentially, reshape)\n  File \"/home/aravind/anaconda3/lib/python3.6/site-packages/tensorflow/python/training/saver.py\", line 419, in _AddRestoreOps\n    assign_ops.append(saveable.restore(tensors, shapes))\n  File \"/home/aravind/anaconda3/lib/python3.6/site-packages/tensorflow/python/training/saver.py\", line 155, in restore\n    self.op.get_shape().is_fully_defined())\n  File \"/home/aravind/anaconda3/lib/python3.6/site-packages/tensorflow/python/ops/state_ops.py\", line 274, in assign\n    validate_shape=validate_shape)\n  File \"/home/aravind/anaconda3/lib/python3.6/site-packages/tensorflow/python/ops/gen_state_ops.py\", line 43, in assign\n    use_locking=use_locking, name=name)\n  File \"/home/aravind/anaconda3/lib/python3.6/site-packages/tensorflow/python/framework/op_def_library.py\", line 767, in apply_op\n    op_def=op_def)\n  File \"/home/aravind/anaconda3/lib/python3.6/site-packages/tensorflow/python/framework/ops.py\", line 2630, in create_op\n    original_op=self._default_original_op, op_def=op_def)\n  File \"/home/aravind/anaconda3/lib/python3.6/site-packages/tensorflow/python/framework/ops.py\", line 1204, in __init__\n    self._traceback = self._graph._extract_stack()  # pylint: disable=protected-access\n\nInvalidArgumentError (see above for traceback): Assign requires shapes of both tensors to match. lhs shape= [3,3,3,64] rhs shape= [3,3,128,128]\n\t [[Node: save/Assign_23 = Assign[T=DT_FLOAT, _class=[\"loc:@Variable_16\"], use_locking=true, validate_shape=true, _device=\"/job:localhost/replica:0/task:0/gpu:0\"](Variable_16, save/RestoreV2_23/_15)]]\n"
     ]
    }
   ],
   "source": [
    "sess = ed.get_session()\n",
    "saver = tf.train.Saver()\n",
    "saver.restore(sess, \"tmp/test_saver\")"
   ]
  },
  {
   "cell_type": "code",
   "execution_count": null,
   "metadata": {
    "collapsed": true
   },
   "outputs": [],
   "source": [
    "sess.run(val_iterator.initializer)\n",
    "val_image, val_labels =sess.run(val_iterator.get_next())"
   ]
  },
  {
   "cell_type": "code",
   "execution_count": null,
   "metadata": {
    "collapsed": true
   },
   "outputs": [],
   "source": [
    "loss = np.array(loss)"
   ]
  },
  {
   "cell_type": "code",
   "execution_count": null,
   "metadata": {},
   "outputs": [],
   "source": [
    "plt.plot(loss[10:])"
   ]
  },
  {
   "cell_type": "code",
   "execution_count": null,
   "metadata": {
    "collapsed": true
   },
   "outputs": [],
   "source": [
    "def bayes_visualize_image_annot(img_data, annot_data, predicted_annot, ax, n_samples=20):\n",
    "    ax[0].imshow(img_data)\n",
    "    ax[0].set_title('Original Image')\n",
    "    ax[1].imshow(img_annot_to_rgb(predicted_annot), alpha=0.1)\n",
    "    ax[1].set_title('Posterior Predicted Segmentation %d samples' % n_samples)\n",
    "    ax[2].imshow(img_annot_to_rgb(annot_data))\n",
    "    ax[2].set_title('True Segmentation')\n",
    "    #plt.show()"
   ]
  },
  {
   "cell_type": "code",
   "execution_count": null,
   "metadata": {
    "collapsed": true
   },
   "outputs": [],
   "source": [
    "ppc_nsamples=100\n",
    "predicted_mask_post = ed.copy(predicted_mask, latent_dict)\n",
    "predicted_mask_post_samples = predicted_mask_post.sample(ppc_nsamples)\n",
    "ppc=sess.run(predicted_mask_post_samples,\n",
    "             feed_dict={inputs: val_image, predicted_mask: val_labels, is_training: True})"
   ]
  },
  {
   "cell_type": "code",
   "execution_count": null,
   "metadata": {},
   "outputs": [],
   "source": [
    "idx=31\n",
    "fig, ax = plt.subplots(1,3,figsize=(10,12))\n",
    "for j in range(20):\n",
    "    bayes_visualize_image_annot(val_image[idx], val_labels[idx],ppc[j,idx],ax, n_samples=ppc_nsamples)"
   ]
  },
  {
   "cell_type": "code",
   "execution_count": null,
   "metadata": {},
   "outputs": [],
   "source": [
    "val_image.shape"
   ]
  },
  {
   "cell_type": "code",
   "execution_count": null,
   "metadata": {
    "collapsed": true
   },
   "outputs": [],
   "source": []
  }
 ],
 "metadata": {
  "kernelspec": {
   "display_name": "Python 3",
   "language": "python",
   "name": "python3"
  },
  "language_info": {
   "codemirror_mode": {
    "name": "ipython",
    "version": 3
   },
   "file_extension": ".py",
   "mimetype": "text/x-python",
   "name": "python",
   "nbconvert_exporter": "python",
   "pygments_lexer": "ipython3",
   "version": "3.6.1"
  }
 },
 "nbformat": 4,
 "nbformat_minor": 2
}
